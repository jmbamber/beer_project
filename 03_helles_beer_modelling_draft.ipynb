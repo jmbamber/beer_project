{
 "cells": [
  {
   "cell_type": "markdown",
   "metadata": {},
   "source": [
    "# Beer draft modelling"
   ]
  },
  {
   "cell_type": "code",
   "execution_count": 1,
   "metadata": {},
   "outputs": [],
   "source": [
    "import pandas as pd\n",
    "import numpy as np\n",
    "import matplotlib.pyplot as plt\n",
    "import seaborn as sns\n",
    "import datetime\n",
    "from tqdm import tqdm_notebook\n",
    "import random as random\n",
    "\n",
    "%config InlineBackend.figure_format = 'retina'\n",
    "%matplotlib inline"
   ]
  },
  {
   "cell_type": "code",
   "execution_count": 2,
   "metadata": {},
   "outputs": [],
   "source": [
    "from sklearn.model_selection import cross_val_score, train_test_split, KFold, GridSearchCV\n",
    "from sklearn.preprocessing import StandardScaler\n",
    "from sklearn.linear_model import LogisticRegression, LogisticRegressionCV\n",
    "from sklearn.metrics import roc_curve, auc, confusion_matrix, classification_report, precision_recall_curve, r2_score, mean_squared_error\n",
    "from sklearn.ensemble import RandomForestClassifier, GradientBoostingClassifier, AdaBoostClassifier, ExtraTreesClassifier, BaggingClassifier\n",
    "from sklearn.pipeline import Pipeline\n",
    "from sklearn.tree import DecisionTreeClassifier\n",
    "from sklearn.feature_extraction.text import TfidfVectorizer"
   ]
  },
  {
   "cell_type": "code",
   "execution_count": 3,
   "metadata": {},
   "outputs": [],
   "source": [
    "from my_classes import Dropper, Dummier, Vectorizer, Stemmer, Series_Vectorizer"
   ]
  },
  {
   "cell_type": "code",
   "execution_count": 32,
   "metadata": {},
   "outputs": [],
   "source": [
    "helles_df = pd.read_csv(\"./data/reviews/helles_cleaned.csv\")"
   ]
  },
  {
   "cell_type": "code",
   "execution_count": 33,
   "metadata": {},
   "outputs": [
    {
     "data": {
      "text/plain": [
       "(2853, 10)"
      ]
     },
     "execution_count": 33,
     "metadata": {},
     "output_type": "execute_result"
    }
   ],
   "source": [
    "helles_df.shape"
   ]
  },
  {
   "cell_type": "code",
   "execution_count": 34,
   "metadata": {},
   "outputs": [
    {
     "data": {
      "text/html": [
       "<div>\n",
       "<style scoped>\n",
       "    .dataframe tbody tr th:only-of-type {\n",
       "        vertical-align: middle;\n",
       "    }\n",
       "\n",
       "    .dataframe tbody tr th {\n",
       "        vertical-align: top;\n",
       "    }\n",
       "\n",
       "    .dataframe thead th {\n",
       "        text-align: right;\n",
       "    }\n",
       "</style>\n",
       "<table border=\"1\" class=\"dataframe\">\n",
       "  <thead>\n",
       "    <tr style=\"text-align: right;\">\n",
       "      <th></th>\n",
       "      <th>rating</th>\n",
       "      <th>look</th>\n",
       "      <th>smell</th>\n",
       "      <th>taste</th>\n",
       "      <th>feel</th>\n",
       "      <th>overall</th>\n",
       "      <th>review</th>\n",
       "      <th>date</th>\n",
       "      <th>id</th>\n",
       "      <th>name</th>\n",
       "    </tr>\n",
       "  </thead>\n",
       "  <tbody>\n",
       "    <tr>\n",
       "      <th>0</th>\n",
       "      <td>4.40</td>\n",
       "      <td>4.25</td>\n",
       "      <td>4.25</td>\n",
       "      <td>4.50</td>\n",
       "      <td>4.25</td>\n",
       "      <td>4.50</td>\n",
       "      <td>Clear bright straw with a nice foamy white hea...</td>\n",
       "      <td>2019-09-07</td>\n",
       "      <td>712</td>\n",
       "      <td>Weihenstephaner Original</td>\n",
       "    </tr>\n",
       "    <tr>\n",
       "      <th>1</th>\n",
       "      <td>4.31</td>\n",
       "      <td>5.00</td>\n",
       "      <td>4.00</td>\n",
       "      <td>4.50</td>\n",
       "      <td>4.00</td>\n",
       "      <td>4.25</td>\n",
       "      <td>One of the better helles style beers imported ...</td>\n",
       "      <td>2019-07-30</td>\n",
       "      <td>712</td>\n",
       "      <td>Weihenstephaner Original</td>\n",
       "    </tr>\n",
       "    <tr>\n",
       "      <th>2</th>\n",
       "      <td>4.41</td>\n",
       "      <td>4.50</td>\n",
       "      <td>3.50</td>\n",
       "      <td>5.00</td>\n",
       "      <td>4.00</td>\n",
       "      <td>4.50</td>\n",
       "      <td>Look is pale gold with dense white head with a...</td>\n",
       "      <td>2019-07-02</td>\n",
       "      <td>712</td>\n",
       "      <td>Weihenstephaner Original</td>\n",
       "    </tr>\n",
       "    <tr>\n",
       "      <th>3</th>\n",
       "      <td>3.93</td>\n",
       "      <td>3.75</td>\n",
       "      <td>3.75</td>\n",
       "      <td>4.00</td>\n",
       "      <td>4.00</td>\n",
       "      <td>4.00</td>\n",
       "      <td>One fingers white head with decent lacing and ...</td>\n",
       "      <td>2019-06-28</td>\n",
       "      <td>712</td>\n",
       "      <td>Weihenstephaner Original</td>\n",
       "    </tr>\n",
       "    <tr>\n",
       "      <th>4</th>\n",
       "      <td>4.23</td>\n",
       "      <td>4.25</td>\n",
       "      <td>4.25</td>\n",
       "      <td>4.25</td>\n",
       "      <td>4.00</td>\n",
       "      <td>4.25</td>\n",
       "      <td>11.2-oz. bottle needed a strong pour into a 16...</td>\n",
       "      <td>2019-06-25</td>\n",
       "      <td>712</td>\n",
       "      <td>Weihenstephaner Original</td>\n",
       "    </tr>\n",
       "  </tbody>\n",
       "</table>\n",
       "</div>"
      ],
      "text/plain": [
       "   rating  look  smell  taste  feel  overall  \\\n",
       "0    4.40  4.25   4.25   4.50  4.25     4.50   \n",
       "1    4.31  5.00   4.00   4.50  4.00     4.25   \n",
       "2    4.41  4.50   3.50   5.00  4.00     4.50   \n",
       "3    3.93  3.75   3.75   4.00  4.00     4.00   \n",
       "4    4.23  4.25   4.25   4.25  4.00     4.25   \n",
       "\n",
       "                                              review        date   id  \\\n",
       "0  Clear bright straw with a nice foamy white hea...  2019-09-07  712   \n",
       "1  One of the better helles style beers imported ...  2019-07-30  712   \n",
       "2  Look is pale gold with dense white head with a...  2019-07-02  712   \n",
       "3  One fingers white head with decent lacing and ...  2019-06-28  712   \n",
       "4  11.2-oz. bottle needed a strong pour into a 16...  2019-06-25  712   \n",
       "\n",
       "                       name  \n",
       "0  Weihenstephaner Original  \n",
       "1  Weihenstephaner Original  \n",
       "2  Weihenstephaner Original  \n",
       "3  Weihenstephaner Original  \n",
       "4  Weihenstephaner Original  "
      ]
     },
     "execution_count": 34,
     "metadata": {},
     "output_type": "execute_result"
    }
   ],
   "source": [
    "helles_df.head()"
   ]
  },
  {
   "cell_type": "code",
   "execution_count": 38,
   "metadata": {},
   "outputs": [
    {
     "data": {
      "text/html": [
       "<div>\n",
       "<style scoped>\n",
       "    .dataframe tbody tr th:only-of-type {\n",
       "        vertical-align: middle;\n",
       "    }\n",
       "\n",
       "    .dataframe tbody tr th {\n",
       "        vertical-align: top;\n",
       "    }\n",
       "\n",
       "    .dataframe thead th {\n",
       "        text-align: right;\n",
       "    }\n",
       "</style>\n",
       "<table border=\"1\" class=\"dataframe\">\n",
       "  <thead>\n",
       "    <tr style=\"text-align: right;\">\n",
       "      <th></th>\n",
       "      <th>rating</th>\n",
       "      <th>look</th>\n",
       "      <th>smell</th>\n",
       "      <th>taste</th>\n",
       "      <th>feel</th>\n",
       "      <th>overall</th>\n",
       "      <th>id</th>\n",
       "      <th>rating_bin</th>\n",
       "    </tr>\n",
       "  </thead>\n",
       "  <tbody>\n",
       "    <tr>\n",
       "      <th>count</th>\n",
       "      <td>2853.000000</td>\n",
       "      <td>2853.000000</td>\n",
       "      <td>2853.000000</td>\n",
       "      <td>2853.000000</td>\n",
       "      <td>2853.000000</td>\n",
       "      <td>2853.000000</td>\n",
       "      <td>2853.000000</td>\n",
       "      <td>2853.000000</td>\n",
       "    </tr>\n",
       "    <tr>\n",
       "      <th>mean</th>\n",
       "      <td>3.665917</td>\n",
       "      <td>3.724984</td>\n",
       "      <td>3.557704</td>\n",
       "      <td>3.678892</td>\n",
       "      <td>3.716222</td>\n",
       "      <td>3.719464</td>\n",
       "      <td>80539.022433</td>\n",
       "      <td>0.515247</td>\n",
       "    </tr>\n",
       "    <tr>\n",
       "      <th>std</th>\n",
       "      <td>0.538898</td>\n",
       "      <td>0.563400</td>\n",
       "      <td>0.583719</td>\n",
       "      <td>0.612842</td>\n",
       "      <td>0.592788</td>\n",
       "      <td>0.588903</td>\n",
       "      <td>98444.641351</td>\n",
       "      <td>0.499855</td>\n",
       "    </tr>\n",
       "    <tr>\n",
       "      <th>min</th>\n",
       "      <td>1.000000</td>\n",
       "      <td>1.000000</td>\n",
       "      <td>1.000000</td>\n",
       "      <td>1.000000</td>\n",
       "      <td>1.000000</td>\n",
       "      <td>1.000000</td>\n",
       "      <td>280.000000</td>\n",
       "      <td>0.000000</td>\n",
       "    </tr>\n",
       "    <tr>\n",
       "      <th>25%</th>\n",
       "      <td>3.400000</td>\n",
       "      <td>3.500000</td>\n",
       "      <td>3.250000</td>\n",
       "      <td>3.500000</td>\n",
       "      <td>3.500000</td>\n",
       "      <td>3.500000</td>\n",
       "      <td>9603.000000</td>\n",
       "      <td>0.000000</td>\n",
       "    </tr>\n",
       "    <tr>\n",
       "      <th>50%</th>\n",
       "      <td>3.730000</td>\n",
       "      <td>3.750000</td>\n",
       "      <td>3.500000</td>\n",
       "      <td>3.750000</td>\n",
       "      <td>3.750000</td>\n",
       "      <td>3.750000</td>\n",
       "      <td>43881.000000</td>\n",
       "      <td>1.000000</td>\n",
       "    </tr>\n",
       "    <tr>\n",
       "      <th>75%</th>\n",
       "      <td>4.000000</td>\n",
       "      <td>4.000000</td>\n",
       "      <td>4.000000</td>\n",
       "      <td>4.000000</td>\n",
       "      <td>4.000000</td>\n",
       "      <td>4.000000</td>\n",
       "      <td>104355.000000</td>\n",
       "      <td>1.000000</td>\n",
       "    </tr>\n",
       "    <tr>\n",
       "      <th>max</th>\n",
       "      <td>5.000000</td>\n",
       "      <td>5.000000</td>\n",
       "      <td>5.000000</td>\n",
       "      <td>5.000000</td>\n",
       "      <td>5.000000</td>\n",
       "      <td>5.000000</td>\n",
       "      <td>425373.000000</td>\n",
       "      <td>1.000000</td>\n",
       "    </tr>\n",
       "  </tbody>\n",
       "</table>\n",
       "</div>"
      ],
      "text/plain": [
       "            rating         look        smell        taste         feel  \\\n",
       "count  2853.000000  2853.000000  2853.000000  2853.000000  2853.000000   \n",
       "mean      3.665917     3.724984     3.557704     3.678892     3.716222   \n",
       "std       0.538898     0.563400     0.583719     0.612842     0.592788   \n",
       "min       1.000000     1.000000     1.000000     1.000000     1.000000   \n",
       "25%       3.400000     3.500000     3.250000     3.500000     3.500000   \n",
       "50%       3.730000     3.750000     3.500000     3.750000     3.750000   \n",
       "75%       4.000000     4.000000     4.000000     4.000000     4.000000   \n",
       "max       5.000000     5.000000     5.000000     5.000000     5.000000   \n",
       "\n",
       "           overall             id   rating_bin  \n",
       "count  2853.000000    2853.000000  2853.000000  \n",
       "mean      3.719464   80539.022433     0.515247  \n",
       "std       0.588903   98444.641351     0.499855  \n",
       "min       1.000000     280.000000     0.000000  \n",
       "25%       3.500000    9603.000000     0.000000  \n",
       "50%       3.750000   43881.000000     1.000000  \n",
       "75%       4.000000  104355.000000     1.000000  \n",
       "max       5.000000  425373.000000     1.000000  "
      ]
     },
     "execution_count": 38,
     "metadata": {},
     "output_type": "execute_result"
    }
   ],
   "source": [
    "helles_df.describe()"
   ]
  },
  {
   "cell_type": "code",
   "execution_count": 39,
   "metadata": {},
   "outputs": [],
   "source": [
    "#setting my binary rating at about the median\n",
    "helles_df[\"rating_bin\"] = helles_df[\"rating\"].apply(lambda x: 1 if x > 3.7 else 0)"
   ]
  },
  {
   "cell_type": "markdown",
   "metadata": {},
   "source": [
    "### Baseline"
   ]
  },
  {
   "cell_type": "code",
   "execution_count": 40,
   "metadata": {},
   "outputs": [
    {
     "data": {
      "text/plain": [
       "0.5152471083070452"
      ]
     },
     "execution_count": 40,
     "metadata": {},
     "output_type": "execute_result"
    }
   ],
   "source": [
    "#checking baseline accuracy\n",
    "baseline = helles_df[\"rating_bin\"].value_counts(normalize=True).max()\n",
    "baseline"
   ]
  },
  {
   "cell_type": "markdown",
   "metadata": {},
   "source": [
    "### Logistic"
   ]
  },
  {
   "cell_type": "code",
   "execution_count": 41,
   "metadata": {},
   "outputs": [
    {
     "name": "stdout",
     "output_type": "stream",
     "text": [
      "CV score: 0.721\n",
      "CV std = 0.005\n",
      "\n",
      "Test score: 0.737\n"
     ]
    }
   ],
   "source": [
    "#setting X and y, and creating split\n",
    "X=helles_df.copy()\n",
    "y = X.pop(\"rating_bin\")\n",
    "X_train, X_test, y_train, y_test = train_test_split(X, y, test_size=0.2, random_state=1)\n",
    "\n",
    "#Setting up pipeline classes\n",
    "dropper = Dropper([\"look\", \"smell\", \"taste\", \"feel\",\n",
    "                    \"overall\", \"date\", \"id\", \"name\", \"rating\"])\n",
    "vec = Series_Vectorizer(to_vec = \"review\")\n",
    "model = LogisticRegression(solver = \"lbfgs\")\n",
    "\n",
    "#Setting up pipeline\n",
    "log_pipe = Pipeline(steps = [(\"dropper\", dropper),\n",
    "                              (\"vec\", vec),\n",
    "                              (\"model\", model)])\n",
    "\n",
    "#Fitting and scoring model\n",
    "log_pipe.fit(X_train, y_train)\n",
    "scores = cross_val_score(log_pipe, X_train, y_train, cv=5)\n",
    "\n",
    "print(\"CV score: {0:.3f}\".format(np.mean(scores)))\n",
    "print(\"CV std = {0:.3f}\".format(np.std(scores)))\n",
    "print(\"\")\n",
    "print(\"Test score: {0:.3f}\".format(log_pipe.score(X_test, y_test)))"
   ]
  },
  {
   "cell_type": "code",
   "execution_count": 42,
   "metadata": {},
   "outputs": [
    {
     "data": {
      "text/html": [
       "<div>\n",
       "<style scoped>\n",
       "    .dataframe tbody tr th:only-of-type {\n",
       "        vertical-align: middle;\n",
       "    }\n",
       "\n",
       "    .dataframe tbody tr th {\n",
       "        vertical-align: top;\n",
       "    }\n",
       "\n",
       "    .dataframe thead th {\n",
       "        text-align: right;\n",
       "    }\n",
       "</style>\n",
       "<table border=\"1\" class=\"dataframe\">\n",
       "  <thead>\n",
       "    <tr style=\"text-align: right;\">\n",
       "      <th></th>\n",
       "      <th>feature</th>\n",
       "      <th>coeff</th>\n",
       "    </tr>\n",
       "  </thead>\n",
       "  <tbody>\n",
       "    <tr>\n",
       "      <th>3725</th>\n",
       "      <td>great</td>\n",
       "      <td>2.703873</td>\n",
       "    </tr>\n",
       "    <tr>\n",
       "      <th>2990</th>\n",
       "      <td>excellent</td>\n",
       "      <td>2.561536</td>\n",
       "    </tr>\n",
       "    <tr>\n",
       "      <th>5528</th>\n",
       "      <td>nice</td>\n",
       "      <td>2.317493</td>\n",
       "    </tr>\n",
       "    <tr>\n",
       "      <th>2325</th>\n",
       "      <td>delicious</td>\n",
       "      <td>2.220485</td>\n",
       "    </tr>\n",
       "    <tr>\n",
       "      <th>1217</th>\n",
       "      <td>bread</td>\n",
       "      <td>1.852391</td>\n",
       "    </tr>\n",
       "    <tr>\n",
       "      <th>3318</th>\n",
       "      <td>floral</td>\n",
       "      <td>1.517091</td>\n",
       "    </tr>\n",
       "    <tr>\n",
       "      <th>2628</th>\n",
       "      <td>doughy</td>\n",
       "      <td>1.516556</td>\n",
       "    </tr>\n",
       "    <tr>\n",
       "      <th>1225</th>\n",
       "      <td>bready</td>\n",
       "      <td>1.476763</td>\n",
       "    </tr>\n",
       "    <tr>\n",
       "      <th>3966</th>\n",
       "      <td>helles</td>\n",
       "      <td>1.376475</td>\n",
       "    </tr>\n",
       "    <tr>\n",
       "      <th>7505</th>\n",
       "      <td>solid</td>\n",
       "      <td>1.364336</td>\n",
       "    </tr>\n",
       "    <tr>\n",
       "      <th>2082</th>\n",
       "      <td>crackery</td>\n",
       "      <td>1.285733</td>\n",
       "    </tr>\n",
       "    <tr>\n",
       "      <th>6852</th>\n",
       "      <td>rich</td>\n",
       "      <td>1.284528</td>\n",
       "    </tr>\n",
       "    <tr>\n",
       "      <th>3448</th>\n",
       "      <td>fresh</td>\n",
       "      <td>1.272470</td>\n",
       "    </tr>\n",
       "    <tr>\n",
       "      <th>4925</th>\n",
       "      <td>love</td>\n",
       "      <td>1.244328</td>\n",
       "    </tr>\n",
       "    <tr>\n",
       "      <th>7944</th>\n",
       "      <td>super</td>\n",
       "      <td>1.239531</td>\n",
       "    </tr>\n",
       "  </tbody>\n",
       "</table>\n",
       "</div>"
      ],
      "text/plain": [
       "        feature     coeff\n",
       "3725      great  2.703873\n",
       "2990  excellent  2.561536\n",
       "5528       nice  2.317493\n",
       "2325  delicious  2.220485\n",
       "1217      bread  1.852391\n",
       "3318     floral  1.517091\n",
       "2628     doughy  1.516556\n",
       "1225     bready  1.476763\n",
       "3966     helles  1.376475\n",
       "7505      solid  1.364336\n",
       "2082   crackery  1.285733\n",
       "6852       rich  1.284528\n",
       "3448      fresh  1.272470\n",
       "4925       love  1.244328\n",
       "7944      super  1.239531"
      ]
     },
     "execution_count": 42,
     "metadata": {},
     "output_type": "execute_result"
    }
   ],
   "source": [
    "log_coeffs = pd.DataFrame(zip(log_pipe.steps[1][1].feature_names, log_pipe.steps[2][1].coef_[0]), columns = [\"feature\", \"coeff\"])\n",
    "log_coeffs.sort_values(\"coeff\", ascending=False).head(15)"
   ]
  },
  {
   "cell_type": "code",
   "execution_count": 43,
   "metadata": {},
   "outputs": [
    {
     "name": "stdout",
     "output_type": "stream",
     "text": [
      "4.27\n",
      "A nice, thick head leads into a golden pint. Taste is hoppy on the front, leading into a grassy and earthy finish with a slight crackery taste. Not bad!\n",
      "\n",
      "3.96\n",
      "another german classic here on tap at prost, what an awesome spot to get acquainted and reacquainted with the all timers. this is a very german lager here, bright yellow in color, well clear, and with slowly rising carbonation lazily joining the tall airy white head that never really settles, so cool to have this on tap! its a true to style german lager of course, but with maybe a little more sweetness to it than some, an almost yellow corn note in the center from the grain, and really its necessary, the beer would be so light without that element, this just sort of beefs it up enough, but i find myself pulling it down in huge gulps anyway, this beer is just made for that kind of fast paced volume swilling. a light classic german hop profile in the taste but it sets in a little earlier than i am used to, which i think also helps define this one. subtle honey and biscuit and dry crackery cereal, more prominent lager yeast and minerals in the water it was brewed with, and a lightly floral finish, springy and delicious. one of those infinitely drinkable old world lagers, this is just as bright as can be and full of character. very few of these i would choose ahead of this one...\n",
      "\n",
      "4.09\n",
      "Appearance: Two finger receding head, moderate lacing, clear light gold color.  Aroma: Grainy nose upfront, clean pils malt. Light grassy/spicy hop aroma Flavor: Clean crackery biscuity malt with a slightly sweet middle and crisp, dry finish. This beer melts in your mouth.  Mouthfeel: Moderate CO2 and light mouthfeel. No astringency or alcohol burn.  Overall: Clean, crisp and does the job. Spaten Original is a true German Helles lager.\n",
      "\n",
      "3.71\n",
      "Pours light, nearly straw gold with an excellent head and effervescence. Nearly crystal clear. The head has moderate retention. Plenty of big bubbles. Honey sweet and crackery malts forward on the nose, with floral and earthy hops. The flavor follows the nose, with more hop and yeast aggression. The malts are still there, but the cracker is stronger. Spicy yeast in midstream. Strong floral and earth hops. Skewed a bit bitter for the style, but still tasty. The mouthfeel is excellent for the style. Crisp and well carbonated. Overall, a somewhat bitter for the style but still very drinkable take.\n",
      "\n",
      "3.49\n",
      "Poured from a 330mL bottle into a mini 0.3L HB München dimpled mug. L: Brilliant gold/straw color and very clear. What every good helles style lager should look like. S: Has that classic bready malt smell. Not much else. T: Crisp with a crackery malt taste, just a little bitterness with some earthy hops. Perhaps a little sweet with some generic fruit undertones. Finishes crisp with a bready taste at the finish. F: Light with good carbonation, perhaps a bit too much. Refreshing! O: To me, this is what an everyday German helles style lager should be. It does not amaze me, and is perhaps a bit simple, but it is a damn good thirst-quenching beer.\n",
      "\n",
      "4.27\n",
      "Pours a brilliant gold with a few fingers of creamy head that has great retention  Has a crackery, neutral nose Taste is subtley sweet, a bit of peppercorn and citrus, some grassiness, earthiness.  Mild, slow hop burn on the finish. Crisp, dry, drinkable. Moderate carbonation....clearly designed to be drinkable\n",
      "\n",
      "3.81\n",
      "Poured into a Seattle Beer Week pint glass. Pours a medium golden amber with a one finger white head with good retention and lacing. Aroma of grainy, slightly biscuit malt, light grassy hops and light smoke. Flavor is husky, grainy malt with a little crackery biscuit, light grassy hops, lemon and light smoke. Light to medium bodied with slight creaminess. I was curious how this great brewery would do with a simple helles lager and was not expecting any smoke until I read the description on the BA page (it's boiled in the same vats as the smoked beer, but does not use smoked malts). The classic Aecht Schlenkerla smoke is obvious, although muted, largely due to the mild malt. Although this is a pleasant, lightly smoked lager, the flavors are tame enough that it just made me want an urbock from these guys. Nicely done and delivers what it promises, but mild compared to their big smoked malt beers.\n",
      "\n",
      "3.75\n",
      "Pours a clear, golden coloration with slightly visible carbonation and a medium, foamy head. Smell is a little unremarkable, with faint aromas of grainy malt, grassy hops and just a hint of smoke. Taste follows the nose, being a lot less expressive than all the other Schlenkerlas I've had so far. Taste is dominated by sweet'ish, grainy, crackery malt and grassy hops, with a touch of hay and just the merest hint of smoke coming through in the aftertaste. Finishes with a medium bitterness and very mild smoke coming through in the aftertaste. Smooth mouthfeel with a light/medium body and medium/lively carbonation. While I expected there to be less smoke to this than the Urbock or Märzen, I was quite surprised by how little smoke is coming through here. The smokey note really is incredibly subtle, making this almost seem like a Rauchbier for people who don't like Rauchbiers and would rather just have a normal Lager.\n",
      "\n",
      "4.14\n",
      "The clear light bright yellow colored beer pours out into a Duvel glass with a 1/2” bright white head that slowly but eventually recedes to a thin cap of foam and a ring around the glass while leaving lacing on the sides. Eventually the foam thins out to an irregular island on the surface but the ring and some lacing persist. Sipping creates a couple of thin arches and several scattered spots and legs of lacing. The aromas are mostly about the crackery malt that is nicely backed up by some floral and slightly grassy hops. The flavors are mostly about the crackery malt and some light malt sweetness. The floral, lightly grassy hops provide a moderate amount of bitterness. The mouthfeel is on the light side of medium bodied and crisp with the prickly finely bubbled moderate carbonation. The clean crisp finish begins as the malt and sweetness begin to fade to a slightly floral, lightly bitter dry ending with just a bit of grassiness which moves to the back of the palate before disappearing. Overall this is an enjoyable and quite drinkable beer which is both flavorful and refreshing. There’s some nice maltiness and the light bitterness serves as a counterbalance to add a touch of hop flavor. I’ll expect I’ll be having this one again and will probably do some side by side tastings with locally brewed Helles lagers.\n",
      "\n",
      "4.41\n",
      "From wooden kegs at Augustiner Keller in Munich Pours a beautiful pale gold, with 3 fingers of head in my mass. Settles relatively slowly. Smells crackery,sightly floral/herbal. Taste is light malt, a touch of honey, incredibly well balanced Dry, crisp, drinkable. Pinnacle of the style\n",
      "\n",
      "3.35\n",
      "Note: I bought this by accident, thought I was buying Augustiner Bräu Lagerbier Helles. Oops. Consumed 7/19/17 A: Golden yellow - crystal clear, as it should be - pours with a medium sized white head, fades to a wispy cap and retains a small collar, leaves some lacing S: Not as clean as I anticipated, but I also was anticipating a different beer (see above) - bread and crackers, but they come second, as the first aroma is mild skunk - some grain - grass and herbal notes, some lager yeast, spice - skunky grain T: Bready, crackery, and grainy - lightly malty overall - lager yeast with some light spice - grassy and lightly herbal, floral - some adjunct-like weirdness, not a far throw from an American macro - minor touch of booze - hint of grape - some sweetness, touch of lingering grainy sweetness M: Light body, medium carbonation, mostly crisp finish O: Edel who now? I can't say I am particularly impressed with Edelstoff. It tastes more like a Dortmunder (or maybe American Adjunct Lager) than a Munich Helles. Maybe I've just had too many stellar examples of German Helles lately, or maybe this just isn't for me.\n",
      "\n",
      "4.35\n",
      "near perfect example of the style here, and honestly a beer that is one of the best you can get, especially for the price, amazing that this is as affordable as it is, i wish this one came around the states a little more. its got great clarity, a classic german pils type malt nose, crackery, dusty, earthy, dry, cerealy, simple. the lager yeast is familiar too, but seems more mature here, like the beer had a longer conditioning process than is standard, and it really brightens the beer up, and keeps only the essence of the yeast character in the aroma, noble hops back it up well, subtle there. the flavor is all of this, really balanced between the elements, but its as much about the process here as it is about any specific flavor nuance, like the patience and timeless ingredients this is made with, its so perfect, just so well refined, so crisp, with distinctive herbal bitterness to finish, and just wonderful carbonation and life to it. i wouldnt change a thing about it, and think it stands as a model for others to follow in the style. it really doesnt get any better than this as far as german lager is concerned!\n",
      "\n",
      "3.62\n",
      "Pours a pale golden color with a huge, fluffy head. Smells of funky hay, wheat and a whiff of toffee on top of a light herbal peak, which develops a floral appearance. Drinks fairly light, soft with a nice effervescence during the finish. Tastes of straw, wet grass, toffee and a whiff of caramel. Turns a little more aqueous and crackery during mid palate, with just a faint note of hops cutting through. Finishes floral, malty with a light herb impact. This is better than it sounds, due to its perfect balance. The hops are borderline subdued, but still manage to make a difference.\n",
      "\n",
      "3.77\n",
      "Brewed with Samuel Adams two-row pale malt blend, Orange Blossom Petals.; Hopped with Mandarina. 6 SRM, 5.4% ABV, 18 IBU, 184 kcal/12oz. Pours out to a lovely, brilliantly clear deep golden, forming a nice creamy poofy lightly yellow/off white head with very good retention and lacing. The nose is interesting. A very clean ferment, some subtle crackery malt character, and a perfumy yet subtle orange note, which is perhaps from the hops used, then again I've never smelled orange blossoms. Mouthfeel is crisp, clean, light bodied, medium carbonation. Taste is nice, subtle malts, very mild bitterness, a clean ferment and a subtle orange flavor. I taste some overlap in the yeast, mouthfeel and malt with boston lager, but I can't put my finger on it. While not quite a traditional helles, it's still nice, but I would much rather drink a classic helles like Paulaner, Weihenstephaner, victory, or augustiner. Worth trying though.\n",
      "\n",
      "3.6\n",
      "Poured from draft, brilliant gold with three fingers of head that stays. Vigorous bubbles Smells crackery. Taste is grainy, slightly earthy, and with a hint of citrus. Overly carbonated. Very dry\n",
      "\n",
      "3.68\n",
      "Pours a clear gold with a fluffy head. Smell is somewhat non existent ...maybe a little malty. Taste is crackery and maybe a bit too fizzy. Light and easy drinking.\n",
      "\n",
      "3.87\n",
      "12 oz can, best by date on the bottom clear golden yellow, white head. grainy, crackery aroma - with some noble hops - earthy. taste is well balanced, fairly clean. good mouthfeel, not too thin.\n",
      "\n",
      "4.13\n",
      "Poured into a narrow pint glass: color is straw gold, spectacularly transparent, great effervescence, head is bright white with small and fine bubbles, some bubbly lacing. not much lingering head. Smell is crackery, biscuity, but moderate, then grassy hop (saaz) aroma. Taste is similar to the aroma with a pleasant malt profile: biscuit, lighter bread, then moderate hop bitterness with grassy hops.  Mouthfeel is crisp, well carbonated, a bit drying and a pleasant lingering flavor.  Overall - another, great, well crafted Pennsylvania helles lager.\n",
      "\n",
      "3.88\n",
      "12oz can - always nice to see a straight-up lager from an established craft brewery. This beer pours a clear, pale golden yellow colour, with four fingers of puffy, rocky, and mildly fizzy off-white head, which leaves some decent spotty lace around the glass as it slowly sinks out of sight. It smells of bready and crackery cereal malt, clove honey, a hint of gasohol, and some tame earthy, grassy, and floral green hop bitters. The taste is gritty and grainy pale malt, a touch of toastiness, honeyed crackers, faded petrol esters, and more understated leafy, herbal, and floral noble hoppiness. The carbonation is adequate in its palate-satiating frothiness, the body a so-so medium weight, and generally smooth, with nothing in particular getting in the way of a swell time at this point in the process. It finishes trending dry, and crisp, with the graininess predominating. Overall - this comes across as a pleasantly rendered version of the style, nice and malty with a subtle hop off-set. As the marketing blurb sez, lagers are made for drinking, as opposed to thinking, and by extension, writing. Maybe that's why I'm having trouble finding more good things to say about this offering, and I mean that in a nice way.\n",
      "\n",
      "3.4\n",
      "a technically decent helles that overstayed its welcome in my fridge and drank a bit tired when i finally cracked into it. its just a tad maltier and fuller than a lot of helles types, and doesnt quite have the visual clarity and brightness i look for in the style, but the flavors are right, a crisping german lager yeast and a simple, earthy, crackery malt base, just doesnt smell or taste very fresh to me, like its been in the bottle way too long. short white head on it, not the frantic carbonation i like, but some life remains, and there is a mineral profile to the beer that seems classically german to me. a little more sweetness in the taste than i like, but its mostly gone by the finish, so it never really seems heavy or anything. with a style like this, where there is so little room for creative freedom, execution is so key, like it has to be amazing to even be good i feel like, with so many solid examples of almost every style readily available these days, and this one really didnt hit that mark for me. not writing it off though, just need to try it fresher next time.\n",
      "\n",
      "2.82\n",
      "Darker than any Helles I've seen to date, it's almost amber and only as clear as the color allows (which is still pretty clear). A fizzy, big-bubbled head makes a fair effort and sets an oily foam atop the brew. It holds as is for the duration, laying down spotting as it goes. Dry and sweet clash rather than complementing or working off each other. Malts are crackery while a slick sort of sweetness counters and dry hay runs underneath. It's okay. It's mostly the same but with a distinct note of diacetyl running through. It's a little too grainy as well. Otherwise, that sweetness continues here, and there is an herbal hops note. Oils, grains, and slickness keep it from being remotely clean. The same goes for what should be a crisp, light-bodied beer; it weighs heavy with an off slickness on the tongue. It is somewhat crisp, but not enough to redeem this beer.\n",
      "\n",
      "4.55\n",
      "16.9 oz. bottle Pours clear straw yellow gold with a creamy white foam head. Smells like apple, pear, grape skin, bready biscuity crackery honey malts, some toasted hay, straw, minty tobacco spice, with floral earthy herbal grass. Tastes like bready biscuity crackery honey malts, some apple, pear, grape skin, lightly toasted hay, straw, minty tobacco spice, with floral earthy herbal grass. Feels medium-light bodied, creamy and crisp with moderate carbonation. Overall a nice Helles lager.\n",
      "\n",
      "3.68\n"
     ]
    },
    {
     "name": "stdout",
     "output_type": "stream",
     "text": [
      "Poured into a snifter. 3.75 A: Moderately hazed dark yellow color. Two fingers of frothy off-white head. Retention is about average and one finger of lacing is left behind. 3.75 S: Surprisingly citrusy with lemon and lime notes. Grassy hay, crackery malts, atale pumpernickel bread.  3.5 T: Grassy maltiness. The taste is more lemony, whereas the nose was more limey. Malts are crackery, bready, and grainy in that order. Hay, earth, just a touch of mineral, and quinoa. 4.0 M: Medium body. Good moderate carbonation. Refreshing and light on the tongue with an almost spritziness and at the same time pleasantly creamy. Very nice here. 3.75 D: Well crafted beer that is perfect for a hot day and tasty enough to warrant a repeat (or several).\n",
      "\n",
      "4.25\n",
      "Aroma: Slightly sweet crackery Pilsner malt base up front. Light earthy hop bitterness. Relatively clean lager character. \n",
      "\n",
      "Appearance: Nearly clear golden pour with a low white head that retains well. Appears still in the glass. \n",
      "\n",
      "Flavor: More crackery Pilsner goodness with a firm earthy hop bitterness that balances this beer well. Balance is nearly even. Finish is clean and dry. Aftertaste is slightly lingering with pleasant cracker-like malt notes. \n",
      "\n",
      "Mouthfeel: Light bodied with medium-high carbonation. No alcohol heat or astringency.\n",
      "\n",
      "Overall impression: A refreshing sessionable lager. This beer deserves more love. Well crafted and enjoyable. Rahr is such a good brewery that delivers every time I have something from them.\n",
      "\n",
      "4.34\n",
      "12 oz can poured into shaker pint. A: very little head just a whispy white film. Body is a crystal clear light yellow watery color. S:light doughy greasy crackery Malts with just a light hint of floral hops. T: soft hoppy flowery flavors give way to a nice doughy light malt base before finishing with a soft dough characteristic. M: Light clean good carbonation.  O: This is a well done Helles Lager. You really don't expect anything less from this brewery and it doesn't. The beer is very light and clean with just the right subtle malts finishes by just a light hoppiness.\n",
      "\n",
      "3.9\n",
      "Enjoyed at the Dive Bar. A - Poured into a standard pint glass a nice clear light straw hue with a thin one finger head that fades to leave light lacing and a creamy blanket. S - Aromas of sweet malts, floral grassy notes, honey, bready yeast. T - Taste is similar to the nose, fair amount of honey, sweet crackery malts. Light floral grassy hops . Rather bready yeast. M - Mouthfeel is lightly carbonated, crisp and clean. O - Overall this was a solid representation of the style. Rather honey forward. Serving Type: on tap\n",
      "\n",
      "4.1\n",
      "Many thanks to Snowcrash000 for this bottle. A - Bright, vibrant clear gold colored pour with very active cascading carbonation. S - Biscuity, bready, and bread crust aroma with dry delicate spicy earthiness.  T - Nice consistent soft crackery malt from start to finish and ends with some earthy spicy grass bitterness to balance things out. M - Medium body and very dry. Coats the mouth with earthy spicy light lemon and floral. O - Really enjoying this beer.\n",
      "\n",
      "4.08\n",
      "500ml bottle A- Golden colour, perfectly transparent, some carbonation bubbles reaching the top. Nice white head, a couple of fingers, nice retention and lacing S- Clean classic pale lager smell: grainy, a fresh herbal whiff, mild citric notes backfront T- Again perfectly clean as the smell suggested. Very pleasant and natural feeling crackery crispness from the malts, quite bitter (for the style i mean) herbal/grassy notes on the back of the mouth and in aftertaste. A lemon note and the slightest hint of spiciness also present, bringing that very appreciated touch of complexity that still doesn't take away anything from the amazing drinkability. Perfectly dry finish leaves you longing for another sip M- Body and carbonation are a bit more vivid than the usual helles (this is in fact what would be once called an export version). Can't really say why but crispness is somehow more pleasant than in most helles, still the beer is amazingly smooth and easy O- A plain excellent beer in all what helles are supposed to be. Just very very good\n",
      "\n",
      "3.68\n",
      "Helles Lager Fordham Brewing Company Style: Munich Helles Lager ABV: 5.40 %  Pours a clear straw yellow with a soapy head and some lacework. Aroma of bready, biscuity malt and a light floral hoppyness. In the flavor, crackery, bready malt notes, some biscuit flavors from lager yeast and a mild herbal bitterness. Well balanced easy drinking session lager. Clean flavor with nothing offensive or out of place. Overall, this was a well made lager from Fordham. Drinks very nice and would compliment a wide array of dishes, from simple bar fare to elegant entrees.\n",
      "\n",
      "4.45\n",
      "Clear, light gold with a beautifully pure pillowy white head. Light and crackery. Just enough of that grassy noble hop character to compliment the clean maltiness.\n",
      "\n",
      "3.98\n",
      "Pale straw gold, compact head of bubbly white foam that seems to dissipate to a thin skim after a minute or so. Second pour yielded a much longer lasting head and some irregular spotty lacing around the edges of the glass. Aroma is clean and slightly scented with honeyed malt. Nothing too wild, and definitely nothing off to speak of. Taste is clean, mild apple esters from the yeast, a very light malt sweetness, though it tapers off quickly. Light bodied with moderate carbonation, and a somewhat substantial feel. Dry aftertaste of grain husks and crackery malt. As it warms up the taste improves slightly. Pairs well with just about any food except sweets.  Helles lagers are simple by design, no one is trying to reinvent the wheel here.  Thanks to Dan for the recommendation.\n",
      "\n",
      "3.8\n",
      ".5L, best before 9/3/11. Pours a clear, radiant yellow-gold with a small head, some lacing. The aroma is lightly metallic, but with some good Noble hop notes and hay. The flavor is light, grainy and tangy. Grassy hop character melds well with the crackery grain flavors. Well-balanced, clean and simple. Mouthfeel is spritzy but soft. Refreshing and highly quaffable. Would pony up a few shekels for this brewski, though nothing serious. Decent.\n",
      "\n",
      "3.72\n",
      "Received as an extra in a trade. Canned 4/3/19. A - Poured into my Duvel tulip a nice crystal clear golden hue with a thin half finger head that fades rather fast to leave a little lacing and a very thin head. S - Aromas of big crackery grains, very faint grassy hops. Little bit of malt sweetness for balance. T - Taste is similar to the nose with loads of crackery grains and a very pleasant grassy floral hop flavour. There is a little bit of honey like malt sweetness which is quite pleasant on the finish that lingers just a little. M- The mouthfeel here is by far the weakest aspect. Very little carbonated has this feeling incredibly thin/watery. Really, really needs more carbonation.  O - Overall this was a real solid Helles, the mouthfeel is just really mediocre. Even just a little bit more carbonation and this would be great. Serving Type: Can\n",
      "\n",
      "3.77\n",
      "The clear bright golden yellow beer pours out into a Duvel glass with a 1” white head that begins to slowly recede leaving a pattern of rings and leggy lacing around the sides of the glass. Sipping creates lots of small patches and legs of lacing, most of which cling to the side of the glass. By mid-way through the beer there’s still lacing clinging to the sides of the glass but only a thin irregular island of foam on the surface. The aromas include some grassiness and a bit of floral character interacting with and supporting a definite crackery malt presence. The flavors are much as expected from the nose with some grassy and lightly floral character supporting the crackery and slightly sweet malt. The grassy bitterness rounds out the flavors and they are all reasonably well balanced, but the grassiness is a bit more prominent than the rest. The mouthfeel is on the light side of medium bodied and slightly crisp from the light, finely bubbled persistent carbonation. The fairly long finish begins as the crackery malt flavor and its sweetness start to recede into the background before slowly disappearing in the middle of the palate. Meanwhile the grassy bitterness moves to center stage before it too begins to recede slowly into a very long, clean crisp finish in the back of the palate. This is an enjoyable beer that I’d be happy to have more of as it seems well made and a reasonable interpretation of the style. It’s clean, crisp and refreshing so it would definitely be a beer to have on hand during the warm days of summer. If I had a complaint about this beer it would be that it seems to me that the hops are a bit too prominent and the malt should be a bit further forward.\n",
      "\n",
      "2.44\n",
      "Had at several places around Iceland; seems to be the king of beers up there. A- Pale and crystal clear straw golden body pour into a pint glass. A foamy white head rises up to several fingers high with decent retention. Lacing is thick and forms in many webs and sheets. S- Sweet pale grains and plenty of the lager yeast with some funky skunk and all.  T- Really not much to say about this brew in general. Faint pale grains are joined by a hint of pale fruits, not-so-clean with warming lager yeast and slight grassy hops. MF- Light bodied but has a decent bit of frothy and foamy texture to it; comes off as thin but not as watery as many of its competitors. High end carbonation and that lagery finish. Light bodied with a touch of crackery grains and somewhere down the middle when it comes to the cheap widespread lager ferment; not overly funky but also not as clean as great lagers.\n",
      "\n",
      "4.2\n",
      "Classic Helles. Pours straw-light gold in color with a fairly dense white head of small bubbles. Clean smell of crackery pilsner malt. Crackery describes the flavor also. This is malt dominated beer with hops just along for the ride. Slightly thin on the body; the finish is abrupt. Nice Munich carbonate mineral character. It clearly stands out as a German, not American made beer. It would be even better if the malt flavor lasted a bit longer.\n",
      "\n",
      "4.38\n",
      "10/24/10 Thanks Chris! A: Pellucid yellow gold with a soapy two finger head that recedes after a minute. S: Malt character is lightly grainy with no sweetness. Lager yeast imparts a subtle green apple character and a little DMS. Hops are floral and grassy with a dash of spiciness.  T: Lightly bitter with a slightly grassy and spicy hop profile. Malt imparts just a little sweetness, it's mostly dry with grainy and crackery notes. The crisp finish displays a touch of sweetness with a light yet insistent bitterness. M: Upper moderate carbonation, dry and crisp. Overall: Though the ABV is far too high to be a Helles proper, this is still a very good and very refreshing Lager. I'm struggling to resist the urge to quaff this one.\n",
      "\n",
      "4.48\n",
      "On tap at Gourmet Haus Staudt. Aktien's helles lager rests in the glass a slightly hazy shade of pale gold. It's initially topped by two fingers of frothy foam, but that settles in time to a thin cap that leaves scattered webs of lacing clinging to the glass.  The nose is delicate and mild. I catch whiffs of clean pale malt, light grassy hops, ripe lemon. There's a faint vegetal character as well. It's remarkably clean and balanced in flavor. Dry crackery malts appear first, followed by a mild zesty hop note and a hint of honey-like sweetness. It's light and crisp, dry on the whole, exceptionally clean and refreshing. It finishes on a dry note, only mildly bitter. At the risk of abusing the word \"clean\", this really is a wonderfully balanced and crisp lager. This is the sort of beer you could drink all night and not get sick of. In fact, I think I'll do that.\n",
      "\n",
      "3.75\n",
      "Poured from a 12 oz bottle into an Accomplice IPA glass L: Clear golden pour with thick foamy white head. Lasts a good while... nice lacing. S: Grainy and rich. Some yeast and citrus mixed in. T.F: German malts.. crackery grains. Citrus and lemongrass... hopping for modest bitterness. A bit of bread and yeast. Light bodied and well carbonated. O: A tasty Helles... good flavor, easy drinking, and true to style. One I'd have again.\n",
      "\n",
      "3.64\n",
      "Pale yellow color with medium retention head that dissipates leaving a somewhat persistent layer of bubbles on top of the beer throughout the drinking. Smell malty, crackery with faint grassy notes. A tiny citrous component as well. The taste is sweeter than expected, very malty, bready, almonds with a faint earthy component. Relatively persistent in the aftertaste. Fizzy carbonation and medium body. Pleasant.\n",
      "\n",
      "4.25\n",
      "Deep yellow, brightly clear with nice carbonation activity. Bubbles push up one tall, thick, foamy, tiny-bubbled head. Quite pretty. Whoa. Just realized this was bottle conditioned when I added the rest of the beer in. Cloudier and chunky now, but that was from my careless pour. I like the conditioning, and will ignore the results from it in the score. Dry bread, saltine crackery, with some light biscuit to round out the malt nose. The latter gives it almost a sweet smell. Very faint noble hop aroma and pretty devoid of yeast scent as well, besides a wisp of what you might encounter walking into a cold orchard. Immensely clean. The taste is a clone of the smell, except the hops make a subdued yet immense contribution to the flavor's vibrance. Crisp without bitterness, nicely balanced. Sweetens and fills out a bit as it warms and the carbonation settles. No brewing flavor flaws.  Just enough creamy mouthfeel to let you know it is there, but not enough to keep one from gulping if they want. Easy on the chops, this is decidedly a session beer dream: incredibly easy to drain without thought, but enough to discuss in case any thought is given.\n",
      "\n",
      "3.93\n"
     ]
    },
    {
     "name": "stdout",
     "output_type": "stream",
     "text": [
      "500ml can - this is another one of those stupidly difficult to determine where they originate from German brews, in the vein of the last few years' worth of Costco Advent calendars, ja? This beer pours a clear, pale golden yellow colour, with a teeming tower of puffy, finely foamy, and somewhat bubbly bone-white head, which leaves some stringy archipelago lace around the glass as it quickly settles. It smells of bready pale cereal malt, a bit of earthy clover honey, subtle untethered yeasty notes, and some decent leafy, weedy, and grassy noble hop bitters. The taste is more crackery and grainy pale malt, further 'healthy' breakfast cereal essences, some genial apple and pear fruitiness, a sense of retreating yeastiness, and more easy-going (what's the German phrase for je ne sais quoi?) leafy, grassy, and floral green hoppiness. The bubbles are pretty tame in their barely supportive frothiness, the body a solid medium weight for the style, and mostly smooth, nothing really here willing to fuck with things, under penalty of German law, so, well, yeeeeeeeaaah! It finishes off-dry, but in a very genial and accommodating manner - wow. Ok, then, I wasn't expecting this - sure, this one won't blow yer typical beer hipster's skirt up, but that's not the fucking point here, as so many bewildered Teutonic brewers (I imagine) have been sweating about for so long. Just make a nice, simple, but well-manicured, cereal-forward, and clean lager, and the rest of the beer world will (and damned well should) duly thank you for it.\n",
      "\n",
      "3.92\n",
      "On tap at Biergarten in LaGuardia Airport. This one pours a clear sunny yellow color, with a half inch head, lots of bubbles, and s bit of lacing. Smells pretty classically helles, lite grassy hops, slightly bready and crackery malt, and some light lager fruity esters. The taste runs pretty similar. It's tastiness comes from its subtle bready malt flavors, light grassiness from the hops, and it's really nice drinkability. I get a bit of pear, which I assume to be from the yeast. This has a crisp and snappy mouthfeel, with a high level of carbonation. A simple but very drinkable Helles here. I definitely enjoyed it.\n",
      "\n",
      "2.85\n",
      "Pours clear gold with no head Smells and tastes kind of skunky. It was out of a keg, so I don't think it was spoiled. Just not great tasting. Slight crackery notes and some maltiness.  Thin and watery. Not a great beer.\n",
      "\n",
      "3.67\n",
      "A- Pours from the tallboy can into a giant snifter with a mostly clarified pale golden body. A fizzy head rises up over one finger high but falls down pretty fast to a small ring. A few small sheets of lacing form. S- Starts off with a pale malty sweetness and a crackery quality. This leads into a touch of herbal hops and slight pale cidery fruits from the yeast. Mostly clean besides those fruits. T- Cleans up somewhat compared to the nose and becomes a very mild, crisp experience that one might expect from this style. The cidery fruitiness mostly fades away allowing buttery sweet malts and herbal, spicy hops to shine. Lacks the lagery funk that lesser examples contain, clean sailing in the end. MF- Light bodied approaching medium overall thickness with a puffy, foamy consistency. A moderate level of carbonation and a clean herbal, lightly bitter finish. The aroma had me a bit concerned but after a few big gulps Moat has delivered a crisp, clean Helles that hits the spot in a hot apartment just before the beginning of July.\n",
      "\n",
      "3.8\n",
      "500ml bottle, with a twist cap - yay, I don't have to track down a bottle opener from my hotel room in Jasper! This beer pours a clear, medium golden yellow colour, with lots of puffy, tightly foamy, and soapy off-white head, which dissipates less than quickly, leaving a small sudsy ring of decayed limestone lace around the glass.  It smells of warm biscuity and grainy pale malt, rising white bread, a touch of overripe apple and pear fruitiness, and spicy floral and weedy hops. The taste is crisp, grainy, and crackery pale malt, a twinge of further caramel sweetness, some inoffensive lemon oil, ephemeral petrol notes, and a plain earthy, weedy, and yet beguilingly spicy noble hoppiness.  The carbonation is moderate in its fairly gentle and leading frothiness, the body a decent middleweight, and mostly smooth, if somewhat unctuous at times. It finishes rather off-dry and strangely crisp, two things that don't particularly or typically go together. Overall, a decent bright lager, with only a subtle trace of that ol' Euro-skank, so not nearly enough to stop me from enjoying this in utter earnest, after a day taking in some late spring skiing, and in the common area of our lodgings to boot - the only people to question this were an older German couple who just wanted to know what beer it was I was drinking. Zehr gut!\n",
      "\n",
      "3.86\n",
      "A: Bright gold, modest very white head. S: Strong scent of clean pils malt, not too grainy,  T: Sweet malt flavor, a little crackery, low bitterness and not much noticeable. Clean finish. M: Medium body, smooth texture. O: Solid helles. Not an exciting beer, but an easily drinkable one.\n",
      "\n",
      "3.83\n",
      "12oz can - a brew made that benefits students studying Fermentation Science at Oregon State University. And supposedly good to drink whilst in a hot tub. This beer pours a slightly hazy, medium golden yellow colour, with three fingers of puffy, loosely foamy, and chunky off-white head, which leaves a bit of roiling wavecrest lace around the glass as it slowly but surely abates. It smells of bready and crackery pale malt, lightly toasted white biscuits, a wee pome fruitiness, and some understated earthy, leafy, and grassy green hop bitters. The taste is gritty and grainy pale malt, saltine crackers, subtle honey, a touch of apple/pear skin, and more easy-going leafy, weedy, and floral noble hoppiness. The carbonation is adequate in its palate-supporting frothiness, the body a solid middleweight, and generally smooth, with a nice aerosol creaminess evolving as things warm up a tad (even more reason to pop one of these in the Jacuzzi!). It finishes off-dry, the malt still large and in charge. Overall, this is a more or less well-rendered version of the style, with just enough crispness to pull it all off. Tasty, refreshing, and worthy of the cause (more fermentation!) it promotes. I recommend checking it out, even if, sadly, like me, you don't have ready access to a hot tub.\n",
      "\n",
      "4.25\n",
      "Pours a clear light golden color with a one inch white head that left ample lacing. Smells of crackery malts, sweet malts, floral elements and grass. Taste follows the nose with additional notes of lemon, very light pepper and a hint of honey. Light bodied, well carbonated, mild bitterness on the finish. The definition of clean and crisp.\n",
      "\n",
      "4.41\n",
      "Moderate to light gold in color. Brilliant clarity. Lots of creamy, ivory head. Beautiful looking pint. Doughy, sweet and crackery malt. Herbal chamomile, floral melon, pear. Light bodied. Smooth and sultry feel with a toasted finish.  Medley of cereal grains. Clean blend of toasty malts and grassy semi-tart citrus hops. Lots of flavor for a light bodied beer.\n",
      "\n",
      "3.84\n",
      "Served in a Shaker pint at Beer Run (Charlottesville, VA). A: Clear golden with tiny cap of off-white foam and reasonable lacing despite the small head on the pour.  S: Bready pils malt character with fairly assertive noble hops nose for the style but aroma is a bit subdued overall T: Flavor is clean with bready, crackery pils malt carrying things most of the way with a flourish of floral and slightly spicy noble hops in the finish. Tiny bit of fruity ester but not distracting. Low bitterness. M: Light and crisp with no doughiness or malt flab in the body. Even, appropriately medium-high carbonation. O: I was impressed with this lager from Brothers. A little cleaner ferment to remove that little bit of fruity ester and they have this nailed as the best area helles I have had.\n",
      "\n",
      "3.81\n",
      "On tap: Chil haze aside, the beer is quite clear. It's a tad darker than I'd expect, though. Head is minimal, but obvious light carbonation is rising in this beer. The nose is mostly devoid of bitterness, and actually a little fruity atop a floral and crackery base. The taste, therefore, is a little surprising. There's a nice little spicy hop bite that combines with the notes from the nose, actually overshadowing them to a degree. A little yeasty in the back, the bittering notes turn grassy as the malts start to regain some control. Little heavier in feel than I'd expect from the style, and not quite as crisp/clean. However, this feel is likely not out of the guidelines for the style. Enjoyable little beer with the edges being areas I'd like cleaned up for my personal taste. Definitely worth a try.\n",
      "\n",
      "4.15\n",
      "This beer pours a crystal clear medium shade of gold with a one finger, sudsy white head. Retention is below average and there is a moderate amount of spotted lacing left on the glass. Smell is bright and clean. Crackery and doughy malts along with floral, grassy and spicy hops are all present as well as the slightest hint of lemon. Taste is the same, very crisp and clean. Starts off with the crackery malt flavor and then transitions to the grassiness and finishes with the peppery spice that lingers on the palate well into the aftertaste. Feel is light, crisp and clean. Carbonation is the high side of moderate and especially noticeable on the finish, where it combines nicely with the peppery spice to prickle and tickle the tongue. Overall this is a great beer. I was super excited when I saw Saranac came out with an all lager fall variety pack and so far they are batting 1.000, although this is the first beer I've had from it.\n",
      "\n",
      "4.03\n",
      "Served on-tap in a clear nonic pint at Beer Run (Charlottesville, VA). A: Glowing amber-gold with foamy 1-finger off-white head with good retention and nice lacing mainly at the top of the glass. S: Fresh grassy hops and toasted malt aromas greet which leaves a spicy biscuity impression. T: Excellent biscuity, crackery malt flavor with grassy, noble hops flavor bursting through. Lots of toasted Munich malt flavor rounds out a very refreshing flavor -- this pint went down very enjoyable and easily. M: Exceptional light-medium body for the style with even, active carbonation to leave a generous, mouth-filling quality which is top-tier. The aftertaste is noble hops and more toasted maltiness. D: A top-notch lager which really hits the spot on this 100 degree day. There's nothing better than a locally made, fresh lager with excellent feel and superb biscuity malt and grassy hoppiness in one package.\n",
      "\n",
      "3.29\n",
      "I first tried this beer on tap at an old watering hole I hadn't frequented in a while. I thought it was pretty good then and was happy to see a local retailer carrying cans from this new(ish) local(ish) brewery. 12 ounce can, 5.3 ABV clearly marked on the can. Date not so clearly ink-jetted on the can's side: 09/28/16... hope that's a canning date. L -- Slightly hazy, deep gold color with a firm white head that holds up well and leaves good lacing. S -- Mild DMS up front with light malt sweetness. T -- Somewhat nutty and grainy malt character with a good sweetness in the finish and crackery graininess in the aftertaste. Light spicy bitterness thru the finish to the aftertaste and a light citrus note in the aftertaste. F -- Soft to lightly dry mouthfeel with a light-medium body. O -- An overall good drinker, if not as clean and refined as the drafts I had. The crackery graininess reminds me more of local regional brews from the past, not necessarily a Munich Helles. I'll be looking for the draft again to re-sample and see if anything impresses me differently.\n",
      "\n",
      "4.09\n",
      "Draft pint at Husk.  Brilliant gold, ample head of foam, rising carbonation visible, delicate lacing around the edges.  Soft biscuity aroma, lightly bready and crackery, dry with a lightly grassy noble hop note.  Taste is fresh and malty, biscuit and clover honey flavors, crisp and clean, finishes dry.  Light bodied and very smooth, pleasantly crisp and not sweet. Paired really well with food.  Simplicity is highly underrated, this is a great Helles.\n",
      "\n",
      "4.17\n",
      "Pours a crystal clear, bright, golden color with a gorgeous two-finger head. Bready malt aroma that's super clean. Incredibly smooth with more bready characters, a lemony and grassy hop bite, and subtle white grapes undertones. Finish is dry, crackery, and clean. This is an awesome Helles.\n",
      "\n",
      "3.84\n",
      "starting to see this one around the kansas city area a little bit now, its a great beer this time of year, and screams session beer at the baseball game in the summer kind of thing to me, light but flavorful, traditional but laid back sort of beer, of the same high quality as the other authentic german styles these guys do, and despite have a rather prominent pale malt flavor, it is also impossibly light and easy drinking with a flavorful european yeast strain and a nice briskness in the finish, refreshing and mellow. bright pale yellow in color, it looks like a pils and served in a pils glass, tall headed and bubbly. dry crackery malt aroma and flavor, pils-esque in that way, with a little less hop and a little more yeast to finish, but super light and drinkable, basically a pils turned into an ale, at least in flavor. awesome carbonation and pretty dry as it washes down big gulp after big gulp. i have liked the beer these guys make, and the more classic the style, the better the execution seems to be. i have a lot of respect for that type of brewing, and these guys do it well! perfect summer outdoor beer.\n",
      "\n",
      "4.35\n",
      "Pours golden with moderate levels of haze, this is an unfiltered lager after all. Enticing aromas of honey and unsweetened graham cracker crust. It tastes like a honey based bread with enough hops to cut the sweetness throughout to keep it from being too malt forward. There's a nice crackery drying finish that I feel like is mostly in German brewed lagers, but not most US made lagers. It is a touch thicker and heavier than a filtered helles. Honestly, this might be my favorite beer from Von Trapp besides Trösten.\n",
      "\n",
      "4.0\n",
      "600 mL bottle from the LCBO; packaged July 30 2015 and served well-chilled. Pours a clear, sparkling golden-yellow colour, with one cm of loose, soapy white froth situated at the surface. It fades away rapidly over the next minute or so, leaving behind a bubbly collar and some scant swaths of lace. The aroma is clean and altogether pretty neutral, insofar as everything about it seems understated. Some grainy, doughy malt sweetness comes through, along with slight hints of grassy hay and citrus. This is actually a pretty impressive, exceedingly clean-tasting German-style pale lager. The malt backbone is dominant at first - lots of grainy, pale barley malt, along with notes of doughy, crackery sweetness. The classic continental hops used (Perle/Hersbrucker) come through on the back end, imparting flavours of grassy hay, lemon pith and a lightly floral, earthy bitterness that lasts through to the finish, along with a faint suggestion of peppery spice. Light-medium in body, with crisp carbonation that assertively agitates the palate. Highly refreshing - this is the sort of beer that all beer drinkers should be able to appreciate to some degree, whether they be macro swillers or hardcore beer geeks. Final Grade: 4.0, just eking out an A-. Beau's Farm Table Helles Lager isn't an attention-grabbing beer, but its quality is undeniable. This is every bit as good as the stuff that gets imported into Ontario from Germany (in fact I would say it's better than a lot of those). My only real complaint with this one is the price - which does not affect the grade, but it does affect my likelihood of actually buying the beer again. $4.50 isn't absurd, but it's a tough sell in this lager category when the quality German imports cost about half that. Griping aside, I'll probably get this again at some point next year, and would encourage pale lager fans to seriously consider giving this one a shot.\n",
      "\n",
      "3.81\n"
     ]
    },
    {
     "name": "stdout",
     "output_type": "stream",
     "text": [
      "Tallboy can from the LCBO; dated Dec 1 2016 and served well-chilled. Pours a crystal-clear golden colour, with one finger of loose, frothy white head situated atop. It fizzles itself away over the next minute or two, with only a modest collar of foam surviving afterwards - save for a few patches of bubbly islands, the surface is otherwise bare. Minimal lacing; it's a pretty typical-looking pale lager. Lots of grainy, bready pale barley malts on the nose, with notes of soda crackers, grassy hay and herbal, somewhat spicy continental hops. A well-crafted beer with a straightforward flavour profile (which is as a helles lager should be). Pale barley malts basically run the show here, with a crackery cereal grain flavour alongside some bready sweetness at the forefront. Noble hops join in on the back end, where they supply a subdued bitterness - grassy and lightly earthy, with floral and herbal suggestions. Finishes clean - or at least clean-ish, as the hops do linger for a few moments. Light in body, with moderately lively carbonation that ceaselessly prickles and pokes the surface of the palate for the duration of each sip. Absolutely sessionable.  Final Grade: 3.81, a B+. Kichesippi's Heller Highwater is a solid, faithful replication of one of my favourite types of German lager, one that could easily serve as a substitute in place of Spaten's or Hacker-Pschorr's helles lagers. A very strong effort - fans of German-style pale lagers can definitely consider this one worth trying, though I believe any BA seeking out something clean, light, refreshing and traditional will more than likely appreciate this beer. I've only had three of their beers, but Kichesippi is quickly shaping up to be my favourite brewer of the Ottawa area.\n",
      "\n",
      "4.17\n",
      "A- 16oz can pours into a tall mug with a mostly clear light golden yellow body. A three finger, thick and foamy white head rises up instantly with great retention and seem to grow in the glass, very slowly, for much longer than other beers (those oat sugars?). Extreme head retention and massive piles of lacing. S- As you might expect in a Helles the malts are the driving force and the hops are there for balance and contrast to the sweet, grainy barley. Cereal, crackery, bready, sweet and particularly grainy pale barley leads into floral, spicy and grassy hops. T- The oats definitely come into play here as they layer a bit of an added sweetness and a slight hint of oats onto the already strong pale barley malt base. Cereal grains, bread and moderately high sweetness from the grains with grassy, spicy, floral and herbal hops giving some balance. Just a touch of pale fruits but a clean fermentation mostly. MF- The oats make the biggest difference here. The beer has a truly silky flow on the tastebuds and is incredibly soft despite a very high end carbonation. Medium-heavy bodied for this style and fluffy textured. The aroma is spot on for a Helles and the oats give this beer something unique both in the flavor and the body that makes it worth trying just for that reason. Silky smooth and super soft but in the end the residual sweetness just gets to be a bit uncomfortable despite a fairly strong hop balance.\n",
      "\n",
      "3.85\n",
      "A - clear bright bubbly golden, one finger of head dissipated to a thin cover S - peppery, metallic, grainy, faint hint of brown sugar sweetness T - peppery and grassy hops, metallic, grainy crackery malt backbone, light buttery sweet finish M - light, well carbonated, crisp, clean, lightly dry O - a simple clean cut representation of the style, well balanced and very drinkable\n",
      "\n"
     ]
    }
   ],
   "source": [
    "for i in range(0,helles_df[\"review\"].str.contains(\"crackery\").sum()):\n",
    "    print(helles_df[helles_df[\"review\"].str.contains(\"crackery\")].iloc[i,0])\n",
    "    print(helles_df[helles_df[\"review\"].str.contains(\"crackery\")].iloc[i,6])\n",
    "    print(\"\")"
   ]
  },
  {
   "cell_type": "markdown",
   "metadata": {},
   "source": [
    "### Stemming Logistic"
   ]
  },
  {
   "cell_type": "code",
   "execution_count": 44,
   "metadata": {},
   "outputs": [
    {
     "name": "stdout",
     "output_type": "stream",
     "text": [
      "CV score: 0.733\n",
      "CV std = 0.014\n",
      "\n",
      "Test score: 0.729\n"
     ]
    }
   ],
   "source": [
    "#setting X and y, and creating split\n",
    "X=helles_df.copy()\n",
    "y = X.pop(\"rating_bin\")\n",
    "X_train, X_test, y_train, y_test = train_test_split(X, y, test_size=0.2, random_state=1)\n",
    "\n",
    "#Setting up pipeline classes\n",
    "dropper = Dropper([\"look\", \"smell\", \"taste\", \"feel\",\n",
    "                    \"overall\", \"date\", \"id\", \"name\", \"rating\"])\n",
    "stem = Stemmer([\"review\"], style=\"porter\")\n",
    "vec = Series_Vectorizer(to_vec = \"review\")\n",
    "model = LogisticRegression(solver = \"lbfgs\")\n",
    "\n",
    "#Setting up pipeline\n",
    "log_pipe = Pipeline(steps = [(\"dropper\", dropper),\n",
    "                             (\"stem\", stem),\n",
    "                              (\"vec\", vec),\n",
    "                              (\"model\", model)])\n",
    "\n",
    "#Fitting and scoring model\n",
    "log_pipe.fit(X_train, y_train)\n",
    "scores = cross_val_score(log_pipe, X_train, y_train, cv=5)\n",
    "\n",
    "print(\"CV score: {0:.3f}\".format(np.mean(scores)))\n",
    "print(\"CV std = {0:.3f}\".format(np.std(scores)))\n",
    "print(\"\")\n",
    "print(\"Test score: {0:.3f}\".format(log_pipe.score(X_test, y_test)))"
   ]
  },
  {
   "cell_type": "code",
   "execution_count": 45,
   "metadata": {},
   "outputs": [
    {
     "data": {
      "text/html": [
       "<div>\n",
       "<style scoped>\n",
       "    .dataframe tbody tr th:only-of-type {\n",
       "        vertical-align: middle;\n",
       "    }\n",
       "\n",
       "    .dataframe tbody tr th {\n",
       "        vertical-align: top;\n",
       "    }\n",
       "\n",
       "    .dataframe thead th {\n",
       "        text-align: right;\n",
       "    }\n",
       "</style>\n",
       "<table border=\"1\" class=\"dataframe\">\n",
       "  <thead>\n",
       "    <tr style=\"text-align: right;\">\n",
       "      <th></th>\n",
       "      <th>feature</th>\n",
       "      <th>coeff</th>\n",
       "    </tr>\n",
       "  </thead>\n",
       "  <tbody>\n",
       "    <tr>\n",
       "      <th>3487</th>\n",
       "      <td>great</td>\n",
       "      <td>2.620317</td>\n",
       "    </tr>\n",
       "    <tr>\n",
       "      <th>5156</th>\n",
       "      <td>nice</td>\n",
       "      <td>2.414409</td>\n",
       "    </tr>\n",
       "    <tr>\n",
       "      <th>2796</th>\n",
       "      <td>excel</td>\n",
       "      <td>2.350471</td>\n",
       "    </tr>\n",
       "    <tr>\n",
       "      <th>1194</th>\n",
       "      <td>breadi</td>\n",
       "      <td>1.886410</td>\n",
       "    </tr>\n",
       "    <tr>\n",
       "      <th>1191</th>\n",
       "      <td>bread</td>\n",
       "      <td>1.812290</td>\n",
       "    </tr>\n",
       "    <tr>\n",
       "      <th>799</th>\n",
       "      <td>balanc</td>\n",
       "      <td>1.579341</td>\n",
       "    </tr>\n",
       "    <tr>\n",
       "      <th>7606</th>\n",
       "      <td>thi</td>\n",
       "      <td>1.560483</td>\n",
       "    </tr>\n",
       "    <tr>\n",
       "      <th>3711</th>\n",
       "      <td>hell</td>\n",
       "      <td>1.493684</td>\n",
       "    </tr>\n",
       "    <tr>\n",
       "      <th>2198</th>\n",
       "      <td>delicious</td>\n",
       "      <td>1.433923</td>\n",
       "    </tr>\n",
       "    <tr>\n",
       "      <th>4593</th>\n",
       "      <td>love</td>\n",
       "      <td>1.422819</td>\n",
       "    </tr>\n",
       "    <tr>\n",
       "      <th>3083</th>\n",
       "      <td>floral</td>\n",
       "      <td>1.378391</td>\n",
       "    </tr>\n",
       "    <tr>\n",
       "      <th>6960</th>\n",
       "      <td>solid</td>\n",
       "      <td>1.313232</td>\n",
       "    </tr>\n",
       "    <tr>\n",
       "      <th>3208</th>\n",
       "      <td>fresh</td>\n",
       "      <td>1.290052</td>\n",
       "    </tr>\n",
       "    <tr>\n",
       "      <th>6364</th>\n",
       "      <td>rich</td>\n",
       "      <td>1.285470</td>\n",
       "    </tr>\n",
       "    <tr>\n",
       "      <th>6150</th>\n",
       "      <td>realli</td>\n",
       "      <td>1.258332</td>\n",
       "    </tr>\n",
       "  </tbody>\n",
       "</table>\n",
       "</div>"
      ],
      "text/plain": [
       "        feature     coeff\n",
       "3487      great  2.620317\n",
       "5156       nice  2.414409\n",
       "2796      excel  2.350471\n",
       "1194     breadi  1.886410\n",
       "1191      bread  1.812290\n",
       "799      balanc  1.579341\n",
       "7606        thi  1.560483\n",
       "3711       hell  1.493684\n",
       "2198  delicious  1.433923\n",
       "4593       love  1.422819\n",
       "3083     floral  1.378391\n",
       "6960      solid  1.313232\n",
       "3208      fresh  1.290052\n",
       "6364       rich  1.285470\n",
       "6150     realli  1.258332"
      ]
     },
     "execution_count": 45,
     "metadata": {},
     "output_type": "execute_result"
    }
   ],
   "source": [
    "log_coeffs = pd.DataFrame(zip(log_pipe.steps[2][1].feature_names, log_pipe.steps[3][1].coef_[0]), columns = [\"feature\", \"coeff\"])\n",
    "log_coeffs.sort_values(\"coeff\", ascending=False).head(15)"
   ]
  },
  {
   "cell_type": "markdown",
   "metadata": {},
   "source": [
    "### Finding best C for logistic"
   ]
  },
  {
   "cell_type": "code",
   "execution_count": 46,
   "metadata": {},
   "outputs": [
    {
     "name": "stderr",
     "output_type": "stream",
     "text": [
      "[Parallel(n_jobs=3)]: Using backend LokyBackend with 3 concurrent workers.\n",
      "[Parallel(n_jobs=3)]: Done   2 out of   5 | elapsed:  3.7min remaining:  5.5min\n",
      "[Parallel(n_jobs=3)]: Done   3 out of   5 | elapsed:  3.8min remaining:  2.5min\n",
      "[Parallel(n_jobs=3)]: Done   5 out of   5 | elapsed:  5.8min remaining:    0.0s\n",
      "[Parallel(n_jobs=3)]: Done   5 out of   5 | elapsed:  5.8min finished\n"
     ]
    },
    {
     "name": "stdout",
     "output_type": "stream",
     "text": [
      "Train score: 0.862\n"
     ]
    }
   ],
   "source": [
    "#setting X and y, and creating split\n",
    "X=helles_df.copy()\n",
    "y = X.pop(\"rating_bin\")\n",
    "X_train, X_test, y_train, y_test = train_test_split(X, y, test_size=0.2, random_state=1)\n",
    "\n",
    "#Setting up pipeline classes\n",
    "dropper = Dropper([\"look\", \"smell\", \"taste\", \"feel\",\n",
    "                    \"overall\", \"date\", \"id\", \"name\", \"rating\"])\n",
    "vec = Series_Vectorizer(to_vec = \"review\")\n",
    "model = LogisticRegressionCV(solver = \"lbfgs\", Cs=20, cv=5, max_iter=250, verbose=10, n_jobs=3)\n",
    "\n",
    "#Setting up pipeline\n",
    "logcv_pipe = Pipeline(steps = [(\"dropper\", dropper),\n",
    "                              (\"vec\", vec),\n",
    "                              (\"model\", model)])\n",
    "\n",
    "#Fitting and scoring model\n",
    "logcv_pipe.fit(X_train, y_train)\n",
    "\n",
    "print(\"Train score: {0:.3f}\".format(logcv_pipe.score(X_train, y_train)))"
   ]
  },
  {
   "cell_type": "code",
   "execution_count": 47,
   "metadata": {},
   "outputs": [
    {
     "data": {
      "text/plain": [
       "0.615848211066026"
      ]
     },
     "execution_count": 47,
     "metadata": {},
     "output_type": "execute_result"
    }
   ],
   "source": [
    "logcv_pipe.steps[2][1].C_[0]"
   ]
  },
  {
   "cell_type": "code",
   "execution_count": 48,
   "metadata": {},
   "outputs": [
    {
     "name": "stdout",
     "output_type": "stream",
     "text": [
      "CV score: 0.723\n",
      "CV std = 0.007\n",
      "\n",
      "Test score: 0.741\n"
     ]
    }
   ],
   "source": [
    "#setting X and y, and creating split\n",
    "X=helles_df.copy()\n",
    "y = X.pop(\"rating_bin\")\n",
    "X_train, X_test, y_train, y_test = train_test_split(X, y, test_size=0.2, random_state=1)\n",
    "\n",
    "#Setting up pipeline classes\n",
    "dropper = Dropper([\"look\", \"smell\", \"taste\", \"feel\",\n",
    "                    \"overall\", \"date\", \"id\", \"name\", \"rating\"])\n",
    "vec = Series_Vectorizer(to_vec = \"review\")\n",
    "model = LogisticRegression(solver = \"lbfgs\", C=0.615848211066026, max_iter=250)\n",
    "\n",
    "#Setting up pipeline\n",
    "log_pipe = Pipeline(steps = [(\"dropper\", dropper),\n",
    "                              (\"vec\", vec),\n",
    "                              (\"model\", model)])\n",
    "\n",
    "#Fitting and scoring model\n",
    "log_pipe.fit(X_train, y_train)\n",
    "scores = cross_val_score(log_pipe, X_train, y_train, cv=5)\n",
    "\n",
    "print(\"CV score: {0:.3f}\".format(np.mean(scores)))\n",
    "print(\"CV std = {0:.3f}\".format(np.std(scores)))\n",
    "print(\"\")\n",
    "print(\"Test score: {0:.3f}\".format(log_pipe.score(X_test, y_test)))"
   ]
  },
  {
   "cell_type": "code",
   "execution_count": 49,
   "metadata": {},
   "outputs": [
    {
     "data": {
      "text/html": [
       "<div>\n",
       "<style scoped>\n",
       "    .dataframe tbody tr th:only-of-type {\n",
       "        vertical-align: middle;\n",
       "    }\n",
       "\n",
       "    .dataframe tbody tr th {\n",
       "        vertical-align: top;\n",
       "    }\n",
       "\n",
       "    .dataframe thead th {\n",
       "        text-align: right;\n",
       "    }\n",
       "</style>\n",
       "<table border=\"1\" class=\"dataframe\">\n",
       "  <thead>\n",
       "    <tr style=\"text-align: right;\">\n",
       "      <th></th>\n",
       "      <th>feature</th>\n",
       "      <th>coeff</th>\n",
       "    </tr>\n",
       "  </thead>\n",
       "  <tbody>\n",
       "    <tr>\n",
       "      <th>3725</th>\n",
       "      <td>great</td>\n",
       "      <td>2.157669</td>\n",
       "    </tr>\n",
       "    <tr>\n",
       "      <th>5528</th>\n",
       "      <td>nice</td>\n",
       "      <td>1.953175</td>\n",
       "    </tr>\n",
       "    <tr>\n",
       "      <th>2990</th>\n",
       "      <td>excellent</td>\n",
       "      <td>1.853523</td>\n",
       "    </tr>\n",
       "    <tr>\n",
       "      <th>2325</th>\n",
       "      <td>delicious</td>\n",
       "      <td>1.638430</td>\n",
       "    </tr>\n",
       "    <tr>\n",
       "      <th>1217</th>\n",
       "      <td>bread</td>\n",
       "      <td>1.500946</td>\n",
       "    </tr>\n",
       "    <tr>\n",
       "      <th>3318</th>\n",
       "      <td>floral</td>\n",
       "      <td>1.265917</td>\n",
       "    </tr>\n",
       "    <tr>\n",
       "      <th>1225</th>\n",
       "      <td>bready</td>\n",
       "      <td>1.233518</td>\n",
       "    </tr>\n",
       "    <tr>\n",
       "      <th>3966</th>\n",
       "      <td>helles</td>\n",
       "      <td>1.184655</td>\n",
       "    </tr>\n",
       "    <tr>\n",
       "      <th>2628</th>\n",
       "      <td>doughy</td>\n",
       "      <td>1.148722</td>\n",
       "    </tr>\n",
       "    <tr>\n",
       "      <th>3448</th>\n",
       "      <td>fresh</td>\n",
       "      <td>1.028798</td>\n",
       "    </tr>\n",
       "    <tr>\n",
       "      <th>7505</th>\n",
       "      <td>solid</td>\n",
       "      <td>1.027409</td>\n",
       "    </tr>\n",
       "    <tr>\n",
       "      <th>2125</th>\n",
       "      <td>crisp</td>\n",
       "      <td>1.004144</td>\n",
       "    </tr>\n",
       "    <tr>\n",
       "      <th>6852</th>\n",
       "      <td>rich</td>\n",
       "      <td>0.970606</td>\n",
       "    </tr>\n",
       "    <tr>\n",
       "      <th>809</th>\n",
       "      <td>balanced</td>\n",
       "      <td>0.962218</td>\n",
       "    </tr>\n",
       "    <tr>\n",
       "      <th>808</th>\n",
       "      <td>balance</td>\n",
       "      <td>0.953569</td>\n",
       "    </tr>\n",
       "  </tbody>\n",
       "</table>\n",
       "</div>"
      ],
      "text/plain": [
       "        feature     coeff\n",
       "3725      great  2.157669\n",
       "5528       nice  1.953175\n",
       "2990  excellent  1.853523\n",
       "2325  delicious  1.638430\n",
       "1217      bread  1.500946\n",
       "3318     floral  1.265917\n",
       "1225     bready  1.233518\n",
       "3966     helles  1.184655\n",
       "2628     doughy  1.148722\n",
       "3448      fresh  1.028798\n",
       "7505      solid  1.027409\n",
       "2125      crisp  1.004144\n",
       "6852       rich  0.970606\n",
       "809    balanced  0.962218\n",
       "808     balance  0.953569"
      ]
     },
     "execution_count": 49,
     "metadata": {},
     "output_type": "execute_result"
    }
   ],
   "source": [
    "log_coeffs = pd.DataFrame(zip(log_pipe.steps[1][1].feature_names, log_pipe.steps[2][1].coef_[0]), columns = [\"feature\", \"coeff\"])\n",
    "log_coeffs.sort_values(\"coeff\", ascending=False).head(15)"
   ]
  },
  {
   "cell_type": "code",
   "execution_count": 51,
   "metadata": {},
   "outputs": [
    {
     "name": "stdout",
     "output_type": "stream",
     "text": [
      "              precision    recall  f1-score   support\n",
      "\n",
      "           0       0.71      0.74      0.73       265\n",
      "           1       0.77      0.74      0.75       306\n",
      "\n",
      "   micro avg       0.74      0.74      0.74       571\n",
      "   macro avg       0.74      0.74      0.74       571\n",
      "weighted avg       0.74      0.74      0.74       571\n",
      "\n"
     ]
    }
   ],
   "source": [
    "lr_predict = log_pipe.predict(X_test)\n",
    "\n",
    "print(classification_report(y_test, lr_predict))"
   ]
  },
  {
   "cell_type": "code",
   "execution_count": 52,
   "metadata": {},
   "outputs": [
    {
     "data": {
      "text/html": [
       "<div>\n",
       "<style scoped>\n",
       "    .dataframe tbody tr th:only-of-type {\n",
       "        vertical-align: middle;\n",
       "    }\n",
       "\n",
       "    .dataframe tbody tr th {\n",
       "        vertical-align: top;\n",
       "    }\n",
       "\n",
       "    .dataframe thead th {\n",
       "        text-align: right;\n",
       "    }\n",
       "</style>\n",
       "<table border=\"1\" class=\"dataframe\">\n",
       "  <thead>\n",
       "    <tr style=\"text-align: right;\">\n",
       "      <th></th>\n",
       "      <th>p_high</th>\n",
       "      <th>p_low</th>\n",
       "    </tr>\n",
       "  </thead>\n",
       "  <tbody>\n",
       "    <tr>\n",
       "      <th>high</th>\n",
       "      <td>227</td>\n",
       "      <td>79</td>\n",
       "    </tr>\n",
       "    <tr>\n",
       "      <th>low</th>\n",
       "      <td>69</td>\n",
       "      <td>196</td>\n",
       "    </tr>\n",
       "  </tbody>\n",
       "</table>\n",
       "</div>"
      ],
      "text/plain": [
       "      p_high  p_low\n",
       "high     227     79\n",
       "low       69    196"
      ]
     },
     "execution_count": 52,
     "metadata": {},
     "output_type": "execute_result"
    }
   ],
   "source": [
    "conmat = confusion_matrix(y_test, lr_predict, labels = [1,0])\n",
    "\n",
    "pd.DataFrame(conmat,\n",
    "            columns = [\"p_high\", \"p_low\"],\n",
    "            index = [\"high\", \"low\"])"
   ]
  },
  {
   "cell_type": "code",
   "execution_count": 55,
   "metadata": {},
   "outputs": [],
   "source": [
    "lr_prob = [y for x,y in log_pipe.predict_proba(X_test)]"
   ]
  },
  {
   "cell_type": "code",
   "execution_count": 56,
   "metadata": {},
   "outputs": [
    {
     "data": {
      "image/png": "[encoded data removed]",
      "text/plain": [
       "<Figure size 432x432 with 1 Axes>"
      ]
     },
     "metadata": {
      "image/png": {
       "height": 397,
       "width": 401
      },
      "needs_background": "light"
     },
     "output_type": "display_data"
    }
   ],
   "source": [
    "fpr, tpr, threshold = roc_curve(y_test, lr_prob)\n",
    "roc_auc = auc(fpr, tpr)\n",
    "\n",
    "plt.figure(figsize=[6, 6])\n",
    "plt.plot(fpr, tpr, label='ROC curve (area = %0.2f)' % roc_auc, linewidth=4)\n",
    "plt.plot([0, 1], [0, 1], 'k--', linewidth=4)\n",
    "plt.xlim([-0.05, 1.0])\n",
    "plt.ylim([-0.05, 1.05])\n",
    "plt.xlabel('False Positive Rate', fontsize=18)\n",
    "plt.ylabel('True Positive Rate', fontsize=18)\n",
    "plt.title('ROC curve', fontsize=18)\n",
    "plt.legend(loc=\"lower right\")\n",
    "plt.show()"
   ]
  },
  {
   "cell_type": "code",
   "execution_count": 57,
   "metadata": {},
   "outputs": [
    {
     "data": {
      "image/png": "[encoded data removed]",
      "text/plain": [
       "<Figure size 432x432 with 1 Axes>"
      ]
     },
     "metadata": {
      "image/png": {
       "height": 397,
       "width": 401
      },
      "needs_background": "light"
     },
     "output_type": "display_data"
    }
   ],
   "source": [
    "precision, recall, threshold = precision_recall_curve(y_test, lr_prob)\n",
    "\n",
    "plt.figure(figsize=[6, 6])\n",
    "plt.plot(recall, precision, label='Precision-recall curve', linewidth=4)\n",
    "plt.xlim([-0.05, 1.0])\n",
    "plt.ylim([-0.05, 1.05])\n",
    "plt.xlabel('Recall', fontsize=18)\n",
    "plt.ylabel('Precision', fontsize=18)\n",
    "plt.title('Precision-Recall curve', fontsize=18)\n",
    "plt.legend(loc=\"lower right\")\n",
    "plt.show()"
   ]
  },
  {
   "cell_type": "code",
   "execution_count": 60,
   "metadata": {},
   "outputs": [
    {
     "data": {
      "text/html": [
       "<div>\n",
       "<style scoped>\n",
       "    .dataframe tbody tr th:only-of-type {\n",
       "        vertical-align: middle;\n",
       "    }\n",
       "\n",
       "    .dataframe tbody tr th {\n",
       "        vertical-align: top;\n",
       "    }\n",
       "\n",
       "    .dataframe thead th {\n",
       "        text-align: right;\n",
       "    }\n",
       "</style>\n",
       "<table border=\"1\" class=\"dataframe\">\n",
       "  <thead>\n",
       "    <tr style=\"text-align: right;\">\n",
       "      <th></th>\n",
       "      <th>feature</th>\n",
       "      <th>coeff</th>\n",
       "    </tr>\n",
       "  </thead>\n",
       "  <tbody>\n",
       "    <tr>\n",
       "      <th>1217</th>\n",
       "      <td>bread</td>\n",
       "      <td>1.500946</td>\n",
       "    </tr>\n",
       "    <tr>\n",
       "      <th>3318</th>\n",
       "      <td>floral</td>\n",
       "      <td>1.265917</td>\n",
       "    </tr>\n",
       "    <tr>\n",
       "      <th>1225</th>\n",
       "      <td>bready</td>\n",
       "      <td>1.233518</td>\n",
       "    </tr>\n",
       "    <tr>\n",
       "      <th>3966</th>\n",
       "      <td>helles</td>\n",
       "      <td>1.184655</td>\n",
       "    </tr>\n",
       "    <tr>\n",
       "      <th>2628</th>\n",
       "      <td>doughy</td>\n",
       "      <td>1.148722</td>\n",
       "    </tr>\n",
       "    <tr>\n",
       "      <th>3448</th>\n",
       "      <td>fresh</td>\n",
       "      <td>1.028798</td>\n",
       "    </tr>\n",
       "    <tr>\n",
       "      <th>7505</th>\n",
       "      <td>solid</td>\n",
       "      <td>1.027409</td>\n",
       "    </tr>\n",
       "    <tr>\n",
       "      <th>2125</th>\n",
       "      <td>crisp</td>\n",
       "      <td>1.004144</td>\n",
       "    </tr>\n",
       "    <tr>\n",
       "      <th>6852</th>\n",
       "      <td>rich</td>\n",
       "      <td>0.970606</td>\n",
       "    </tr>\n",
       "    <tr>\n",
       "      <th>809</th>\n",
       "      <td>balanced</td>\n",
       "      <td>0.962218</td>\n",
       "    </tr>\n",
       "  </tbody>\n",
       "</table>\n",
       "</div>"
      ],
      "text/plain": [
       "       feature     coeff\n",
       "1217     bread  1.500946\n",
       "3318    floral  1.265917\n",
       "1225    bready  1.233518\n",
       "3966    helles  1.184655\n",
       "2628    doughy  1.148722\n",
       "3448     fresh  1.028798\n",
       "7505     solid  1.027409\n",
       "2125     crisp  1.004144\n",
       "6852      rich  0.970606\n",
       "809   balanced  0.962218"
      ]
     },
     "execution_count": 60,
     "metadata": {},
     "output_type": "execute_result"
    }
   ],
   "source": [
    "#Top coeffifients, not including positive words\n",
    "\n",
    "log_coeffs = pd.DataFrame(zip(log_pipe.steps[1][1].feature_names, log_pipe.steps[2][1].coef_[0]),\n",
    "                          columns = [\"feature\", \"coeff\"])\n",
    "\n",
    "log_coeffs[\"abs_coeff\"] = log_coeffs[\"coeff\"].map(lambda x: abs(x))\n",
    "\n",
    "pos_words = [\"great\", \"excellent\", \"delicious\", \"fantastic\", \"perfect\", \"wonderful\", \"beautiful\", \"amazing\", \"awesome\",\n",
    "            \"love\", \"tasty\", \"nice\", \"super\", \"best\", \"incredible\",]\n",
    "\n",
    "log_coeffs[[\"feature\", \"coeff\"]][~log_coeffs[\"feature\"].isin(pos_words)].sort_values(\"coeff\", ascending=False).head(10)"
   ]
  },
  {
   "cell_type": "code",
   "execution_count": 61,
   "metadata": {},
   "outputs": [
    {
     "data": {
      "text/html": [
       "<div>\n",
       "<style scoped>\n",
       "    .dataframe tbody tr th:only-of-type {\n",
       "        vertical-align: middle;\n",
       "    }\n",
       "\n",
       "    .dataframe tbody tr th {\n",
       "        vertical-align: top;\n",
       "    }\n",
       "\n",
       "    .dataframe thead th {\n",
       "        text-align: right;\n",
       "    }\n",
       "</style>\n",
       "<table border=\"1\" class=\"dataframe\">\n",
       "  <thead>\n",
       "    <tr style=\"text-align: right;\">\n",
       "      <th></th>\n",
       "      <th>feature</th>\n",
       "      <th>coeff</th>\n",
       "    </tr>\n",
       "  </thead>\n",
       "  <tbody>\n",
       "    <tr>\n",
       "      <th>4794</th>\n",
       "      <td>light</td>\n",
       "      <td>-1.255695</td>\n",
       "    </tr>\n",
       "    <tr>\n",
       "      <th>3094</th>\n",
       "      <td>faint</td>\n",
       "      <td>-1.139795</td>\n",
       "    </tr>\n",
       "    <tr>\n",
       "      <th>5200</th>\n",
       "      <td>metallic</td>\n",
       "      <td>-1.076524</td>\n",
       "    </tr>\n",
       "    <tr>\n",
       "      <th>3259</th>\n",
       "      <td>fizzy</td>\n",
       "      <td>-1.075807</td>\n",
       "    </tr>\n",
       "    <tr>\n",
       "      <th>8110</th>\n",
       "      <td>taste</td>\n",
       "      <td>-1.014440</td>\n",
       "    </tr>\n",
       "    <tr>\n",
       "      <th>3696</th>\n",
       "      <td>grainy</td>\n",
       "      <td>-0.952967</td>\n",
       "    </tr>\n",
       "    <tr>\n",
       "      <th>1057</th>\n",
       "      <td>bland</td>\n",
       "      <td>-0.932409</td>\n",
       "    </tr>\n",
       "    <tr>\n",
       "      <th>3289</th>\n",
       "      <td>flavours</td>\n",
       "      <td>-0.922863</td>\n",
       "    </tr>\n",
       "    <tr>\n",
       "      <th>4970</th>\n",
       "      <td>macro</td>\n",
       "      <td>-0.914958</td>\n",
       "    </tr>\n",
       "    <tr>\n",
       "      <th>640</th>\n",
       "      <td>aroma</td>\n",
       "      <td>-0.896891</td>\n",
       "    </tr>\n",
       "  </tbody>\n",
       "</table>\n",
       "</div>"
      ],
      "text/plain": [
       "       feature     coeff\n",
       "4794     light -1.255695\n",
       "3094     faint -1.139795\n",
       "5200  metallic -1.076524\n",
       "3259     fizzy -1.075807\n",
       "8110     taste -1.014440\n",
       "3696    grainy -0.952967\n",
       "1057     bland -0.932409\n",
       "3289  flavours -0.922863\n",
       "4970     macro -0.914958\n",
       "640      aroma -0.896891"
      ]
     },
     "execution_count": 61,
     "metadata": {},
     "output_type": "execute_result"
    }
   ],
   "source": [
    "#Bottom coeffifients, not including negative words\n",
    "\n",
    "neg_words = [\"bad\", \"decent\", \"average\", \"ok\", \"lacking\", \"little\", \"disappointing\", \"didn\", \"doesn\", \"maybe\"]\n",
    "\n",
    "log_coeffs[[\"feature\", \"coeff\"]][~log_coeffs[\"feature\"].isin(neg_words)].sort_values(\"coeff\", ascending=True).head(10)"
   ]
  },
  {
   "cell_type": "code",
   "execution_count": 62,
   "metadata": {},
   "outputs": [
    {
     "data": {
      "image/png": "[encoded data removed]",
      "text/plain": [
       "<Figure size 576x576 with 1 Axes>"
      ]
     },
     "metadata": {
      "image/png": {
       "height": 487,
       "width": 531
      },
      "needs_background": "light"
     },
     "output_type": "display_data"
    }
   ],
   "source": [
    "top_coeffs = log_coeffs[~(log_coeffs[\"feature\"].isin(neg_words)) & \n",
    "                        ~(log_coeffs[\"feature\"].isin(pos_words))].sort_values(\"abs_coeff\", ascending=False)[:21]\n",
    "\n",
    "fig = plt.figure(figsize=(8,8))\n",
    "plt.barh(\"feature\", \"coeff\", \n",
    "         height=.7,\n",
    "         data=top_coeffs.sort_values(\"abs_coeff\"),\n",
    "         color=[\"#1E90FF\" if x > 0 else \"#DC143C\" for x in top_coeffs.sort_values(\"abs_coeff\")[\"coeff\"]])\n",
    "plt.title(\"APA Coefficients\", fontsize=20)\n",
    "plt.yticks(fontsize=14)\n",
    "plt.show()"
   ]
  },
  {
   "cell_type": "markdown",
   "metadata": {},
   "source": [
    "Notes:\n",
    "\n",
    " - TO UPDATE\n",
    "\n",
    " "
   ]
  },
  {
   "cell_type": "markdown",
   "metadata": {},
   "source": [
    "### Trying out the model on brewers' descriptions"
   ]
  },
  {
   "cell_type": "code",
   "execution_count": 63,
   "metadata": {},
   "outputs": [],
   "source": [
    "beers = pd.read_csv(\"./data/helles_beers.csv\")"
   ]
  },
  {
   "cell_type": "code",
   "execution_count": 64,
   "metadata": {},
   "outputs": [],
   "source": [
    "beers[\"review\"]=beers[\"desc\"]\n",
    "clean_beers = beers.dropna()"
   ]
  },
  {
   "cell_type": "code",
   "execution_count": 68,
   "metadata": {},
   "outputs": [
    {
     "data": {
      "text/html": [
       "<div>\n",
       "<style scoped>\n",
       "    .dataframe tbody tr th:only-of-type {\n",
       "        vertical-align: middle;\n",
       "    }\n",
       "\n",
       "    .dataframe tbody tr th {\n",
       "        vertical-align: top;\n",
       "    }\n",
       "\n",
       "    .dataframe thead th {\n",
       "        text-align: right;\n",
       "    }\n",
       "</style>\n",
       "<table border=\"1\" class=\"dataframe\">\n",
       "  <thead>\n",
       "    <tr style=\"text-align: right;\">\n",
       "      <th></th>\n",
       "      <th>id</th>\n",
       "      <th>rank</th>\n",
       "      <th>av_rating</th>\n",
       "      <th>n_reviews</th>\n",
       "    </tr>\n",
       "  </thead>\n",
       "  <tbody>\n",
       "    <tr>\n",
       "      <th>count</th>\n",
       "      <td>62.000000</td>\n",
       "      <td>62.000000</td>\n",
       "      <td>62.000000</td>\n",
       "      <td>62.000000</td>\n",
       "    </tr>\n",
       "    <tr>\n",
       "      <th>mean</th>\n",
       "      <td>112073.129032</td>\n",
       "      <td>84.225806</td>\n",
       "      <td>3.771290</td>\n",
       "      <td>113.322581</td>\n",
       "    </tr>\n",
       "    <tr>\n",
       "      <th>std</th>\n",
       "      <td>119038.592804</td>\n",
       "      <td>4.232657</td>\n",
       "      <td>0.271779</td>\n",
       "      <td>172.454392</td>\n",
       "    </tr>\n",
       "    <tr>\n",
       "      <th>min</th>\n",
       "      <td>384.000000</td>\n",
       "      <td>70.000000</td>\n",
       "      <td>2.970000</td>\n",
       "      <td>4.000000</td>\n",
       "    </tr>\n",
       "    <tr>\n",
       "      <th>25%</th>\n",
       "      <td>18704.000000</td>\n",
       "      <td>82.000000</td>\n",
       "      <td>3.622500</td>\n",
       "      <td>14.000000</td>\n",
       "    </tr>\n",
       "    <tr>\n",
       "      <th>50%</th>\n",
       "      <td>59161.000000</td>\n",
       "      <td>84.500000</td>\n",
       "      <td>3.770000</td>\n",
       "      <td>43.500000</td>\n",
       "    </tr>\n",
       "    <tr>\n",
       "      <th>75%</th>\n",
       "      <td>183395.750000</td>\n",
       "      <td>87.000000</td>\n",
       "      <td>3.935000</td>\n",
       "      <td>122.500000</td>\n",
       "    </tr>\n",
       "    <tr>\n",
       "      <th>max</th>\n",
       "      <td>425373.000000</td>\n",
       "      <td>93.000000</td>\n",
       "      <td>4.420000</td>\n",
       "      <td>966.000000</td>\n",
       "    </tr>\n",
       "  </tbody>\n",
       "</table>\n",
       "</div>"
      ],
      "text/plain": [
       "                  id       rank  av_rating   n_reviews\n",
       "count      62.000000  62.000000  62.000000   62.000000\n",
       "mean   112073.129032  84.225806   3.771290  113.322581\n",
       "std    119038.592804   4.232657   0.271779  172.454392\n",
       "min       384.000000  70.000000   2.970000    4.000000\n",
       "25%     18704.000000  82.000000   3.622500   14.000000\n",
       "50%     59161.000000  84.500000   3.770000   43.500000\n",
       "75%    183395.750000  87.000000   3.935000  122.500000\n",
       "max    425373.000000  93.000000   4.420000  966.000000"
      ]
     },
     "execution_count": 68,
     "metadata": {},
     "output_type": "execute_result"
    }
   ],
   "source": [
    "clean_beers.describe()"
   ]
  },
  {
   "cell_type": "code",
   "execution_count": 69,
   "metadata": {},
   "outputs": [],
   "source": [
    "#setting X and y, and creating split\n",
    "X=clean_beers[[\"review\"]].copy()\n",
    "y=clean_beers[\"av_rating\"].apply(lambda x: 1 if x > 3.8 else 0)\n",
    "\n",
    "#Setting up pipeline\n",
    "new_pipe = Pipeline(steps = [ (\"vec\", vec),\n",
    "                              (\"model\", model)])\n",
    "\n",
    "#Fitting and scoring model\n",
    "y_pred = new_pipe.predict(X)"
   ]
  },
  {
   "cell_type": "code",
   "execution_count": 70,
   "metadata": {},
   "outputs": [
    {
     "data": {
      "text/plain": [
       "0.5"
      ]
     },
     "execution_count": 70,
     "metadata": {},
     "output_type": "execute_result"
    }
   ],
   "source": [
    "from sklearn.metrics import accuracy_score\n",
    "\n",
    "accuracy_score(y, y_pred)"
   ]
  },
  {
   "cell_type": "code",
   "execution_count": 71,
   "metadata": {},
   "outputs": [
    {
     "data": {
      "text/plain": [
       "0.5483870967741935"
      ]
     },
     "execution_count": 71,
     "metadata": {},
     "output_type": "execute_result"
    }
   ],
   "source": [
    "1-y.mean()"
   ]
  },
  {
   "cell_type": "code",
   "execution_count": 72,
   "metadata": {},
   "outputs": [
    {
     "name": "stdout",
     "output_type": "stream",
     "text": [
      "              precision    recall  f1-score   support\n",
      "\n",
      "           0       0.71      0.15      0.24        34\n",
      "           1       0.47      0.93      0.63        28\n",
      "\n",
      "   micro avg       0.50      0.50      0.50        62\n",
      "   macro avg       0.59      0.54      0.44        62\n",
      "weighted avg       0.61      0.50      0.42        62\n",
      "\n"
     ]
    }
   ],
   "source": [
    "print(classification_report(y, y_pred))"
   ]
  },
  {
   "cell_type": "code",
   "execution_count": 73,
   "metadata": {},
   "outputs": [
    {
     "data": {
      "text/html": [
       "<div>\n",
       "<style scoped>\n",
       "    .dataframe tbody tr th:only-of-type {\n",
       "        vertical-align: middle;\n",
       "    }\n",
       "\n",
       "    .dataframe tbody tr th {\n",
       "        vertical-align: top;\n",
       "    }\n",
       "\n",
       "    .dataframe thead th {\n",
       "        text-align: right;\n",
       "    }\n",
       "</style>\n",
       "<table border=\"1\" class=\"dataframe\">\n",
       "  <thead>\n",
       "    <tr style=\"text-align: right;\">\n",
       "      <th></th>\n",
       "      <th>p_high</th>\n",
       "      <th>p_low</th>\n",
       "    </tr>\n",
       "  </thead>\n",
       "  <tbody>\n",
       "    <tr>\n",
       "      <th>high</th>\n",
       "      <td>26</td>\n",
       "      <td>2</td>\n",
       "    </tr>\n",
       "    <tr>\n",
       "      <th>low</th>\n",
       "      <td>29</td>\n",
       "      <td>5</td>\n",
       "    </tr>\n",
       "  </tbody>\n",
       "</table>\n",
       "</div>"
      ],
      "text/plain": [
       "      p_high  p_low\n",
       "high      26      2\n",
       "low       29      5"
      ]
     },
     "execution_count": 73,
     "metadata": {},
     "output_type": "execute_result"
    }
   ],
   "source": [
    "conmat = confusion_matrix(y, y_pred, labels = [1,0])\n",
    "\n",
    "pd.DataFrame(conmat,\n",
    "            columns = [\"p_high\", \"p_low\"],\n",
    "            index = [\"high\", \"low\"])"
   ]
  },
  {
   "cell_type": "code",
   "execution_count": 74,
   "metadata": {},
   "outputs": [
    {
     "name": "stderr",
     "output_type": "stream",
     "text": [
      "C:\\Users\\James\\Anaconda\\lib\\site-packages\\ipykernel_launcher.py:1: SettingWithCopyWarning: \n",
      "A value is trying to be set on a copy of a slice from a DataFrame.\n",
      "Try using .loc[row_indexer,col_indexer] = value instead\n",
      "\n",
      "See the caveats in the documentation: http://pandas.pydata.org/pandas-docs/stable/user_guide/indexing.html#returning-a-view-versus-a-copy\n",
      "  \"\"\"Entry point for launching an IPython kernel.\n"
     ]
    }
   ],
   "source": [
    "clean_beers[\"rating_pred\"] = y_pred"
   ]
  },
  {
   "cell_type": "code",
   "execution_count": 75,
   "metadata": {},
   "outputs": [
    {
     "name": "stdout",
     "output_type": "stream",
     "text": [
      "3.69\n",
      "Marketed as Premium Lager in the US.\n",
      "\n",
      "4.19\n",
      "A particularly mild, sparkling, long stored beer, refreshing and easily digestible at the same time. Uniquely in its taste, a benefit for each beer connoisseur.\n",
      "\n",
      "3.97\n",
      "Beer sensory characteristics: A creamy, compact head crowns the glass. Brilliant, delicately pearled with bubbles, and golden yellow; it captivates the eye of the true connoisseur. The aroma is lightly reminiscent of flowering hops. The body is pure, mild, discretely aromatic, coupled with a slight sweetness. The finish is soft, with a hint of maltiness. A lager that awakens the desire to drink it again and again. Mahrs Bräu Hell pairing recommendation: to cooked or fried fish dishes, salads, mild cheeses, stews.\n",
      "\n",
      "3.54\n",
      "Formerly Ringneck Big Woody Lager\n",
      "\n",
      "3.64\n",
      "Light, simple, and drinkable at those special gatherings you sometimes get lucky enough to happen upon - a beautiful golden goodness that's worth gathering about.\n",
      "\n"
     ]
    }
   ],
   "source": [
    "for i in range(0,5):\n",
    "    print(clean_beers[clean_beers[\"rating_pred\"] == 0].iloc[i,6])\n",
    "    print(clean_beers[clean_beers[\"rating_pred\"] == 0].iloc[i,10])\n",
    "    print(\"\")"
   ]
  },
  {
   "cell_type": "markdown",
   "metadata": {},
   "source": [
    "### Roc/ PR curves"
   ]
  },
  {
   "cell_type": "code",
   "execution_count": 76,
   "metadata": {},
   "outputs": [],
   "source": [
    "X=clean_beers[[\"review\"]].copy()\n",
    "brew_prob = [y for x,y in new_pipe.predict_proba(X)]"
   ]
  },
  {
   "cell_type": "code",
   "execution_count": 77,
   "metadata": {},
   "outputs": [
    {
     "data": {
      "image/png": "[encoded data removed]",
      "text/plain": [
       "<Figure size 432x432 with 1 Axes>"
      ]
     },
     "metadata": {
      "image/png": {
       "height": 397,
       "width": 401
      },
      "needs_background": "light"
     },
     "output_type": "display_data"
    }
   ],
   "source": [
    "fpr, tpr, threshold = roc_curve(y, brew_prob)\n",
    "roc_auc = auc(fpr, tpr)\n",
    "\n",
    "plt.figure(figsize=[6, 6])\n",
    "plt.plot(fpr, tpr, label='ROC curve (area = %0.2f)' % roc_auc, linewidth=4)\n",
    "plt.plot([0, 1], [0, 1], 'k--', linewidth=4)\n",
    "plt.xlim([-0.05, 1.0])\n",
    "plt.ylim([-0.05, 1.05])\n",
    "plt.xlabel('False Positive Rate', fontsize=18)\n",
    "plt.ylabel('True Positive Rate', fontsize=18)\n",
    "plt.title('ROC curve', fontsize=18)\n",
    "plt.legend(loc=\"lower right\")\n",
    "plt.show()"
   ]
  },
  {
   "cell_type": "code",
   "execution_count": 78,
   "metadata": {},
   "outputs": [
    {
     "data": {
      "image/png": "[encoded data removed]",
      "text/plain": [
       "<Figure size 432x432 with 1 Axes>"
      ]
     },
     "metadata": {
      "image/png": {
       "height": 397,
       "width": 401
      },
      "needs_background": "light"
     },
     "output_type": "display_data"
    }
   ],
   "source": [
    "precision, recall, threshold = precision_recall_curve(y, brew_prob)\n",
    "\n",
    "plt.figure(figsize=[6, 6])\n",
    "plt.plot(recall, precision, label='Precision-recall curve', linewidth=4)\n",
    "plt.xlim([-0.05, 1.0])\n",
    "plt.ylim([-0.05, 1.05])\n",
    "plt.xlabel('Recall', fontsize=18)\n",
    "plt.ylabel('Precision', fontsize=18)\n",
    "plt.title('Precision-Recall curve', fontsize=18)\n",
    "plt.legend(loc=\"lower right\")\n",
    "plt.show()"
   ]
  }
 ],
 "metadata": {
  "kernelspec": {
   "display_name": "Python 3",
   "language": "python",
   "name": "python3"
  },
  "language_info": {
   "codemirror_mode": {
    "name": "ipython",
    "version": 3
   },
   "file_extension": ".py",
   "mimetype": "text/x-python",
   "name": "python",
   "nbconvert_exporter": "python",
   "pygments_lexer": "ipython3",
   "version": "3.7.3"
  }
 },
 "nbformat": 4,
 "nbformat_minor": 2
}
